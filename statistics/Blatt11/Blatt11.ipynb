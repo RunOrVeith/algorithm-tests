{
 "cells": [
  {
   "cell_type": "code",
   "execution_count": 18,
   "metadata": {
    "scrolled": false
   },
   "outputs": [
    {
     "data": {
      "text/html": [
       "<table>\n",
       "<thead><tr><th scope=col>sand</th><th scope=col>clay</th><th scope=col>loam</th></tr></thead>\n",
       "<tbody>\n",
       "\t<tr><td> 6</td><td>17</td><td>13</td></tr>\n",
       "\t<tr><td>10</td><td>15</td><td>16</td></tr>\n",
       "\t<tr><td> 8</td><td> 3</td><td> 9</td></tr>\n",
       "\t<tr><td> 6</td><td>11</td><td>12</td></tr>\n",
       "\t<tr><td>14</td><td>14</td><td>15</td></tr>\n",
       "\t<tr><td>17</td><td>12</td><td>16</td></tr>\n",
       "\t<tr><td> 9</td><td>12</td><td>17</td></tr>\n",
       "\t<tr><td>11</td><td> 8</td><td>13</td></tr>\n",
       "\t<tr><td> 7</td><td>10</td><td>18</td></tr>\n",
       "\t<tr><td>11</td><td>13</td><td>14</td></tr>\n",
       "</tbody>\n",
       "</table>\n"
      ],
      "text/latex": [
       "\\begin{tabular}{r|lll}\n",
       " sand & clay & loam\\\\\n",
       "\\hline\n",
       "\t  6 & 17 & 13\\\\\n",
       "\t 10 & 15 & 16\\\\\n",
       "\t  8 &  3 &  9\\\\\n",
       "\t  6 & 11 & 12\\\\\n",
       "\t 14 & 14 & 15\\\\\n",
       "\t 17 & 12 & 16\\\\\n",
       "\t  9 & 12 & 17\\\\\n",
       "\t 11 &  8 & 13\\\\\n",
       "\t  7 & 10 & 18\\\\\n",
       "\t 11 & 13 & 14\\\\\n",
       "\\end{tabular}\n"
      ],
      "text/markdown": [
       "\n",
       "sand | clay | loam | \n",
       "|---|---|---|---|---|---|---|---|---|---|\n",
       "|  6 | 17 | 13 | \n",
       "| 10 | 15 | 16 | \n",
       "|  8 |  3 |  9 | \n",
       "|  6 | 11 | 12 | \n",
       "| 14 | 14 | 15 | \n",
       "| 17 | 12 | 16 | \n",
       "|  9 | 12 | 17 | \n",
       "| 11 |  8 | 13 | \n",
       "|  7 | 10 | 18 | \n",
       "| 11 | 13 | 14 | \n",
       "\n",
       "\n"
      ],
      "text/plain": [
       "   sand clay loam\n",
       "1   6   17   13  \n",
       "2  10   15   16  \n",
       "3   8    3    9  \n",
       "4   6   11   12  \n",
       "5  14   14   15  \n",
       "6  17   12   16  \n",
       "7   9   12   17  \n",
       "8  11    8   13  \n",
       "9   7   10   18  \n",
       "10 11   13   14  "
      ]
     },
     "metadata": {},
     "output_type": "display_data"
    }
   ],
   "source": [
    "yields = read.table(\"yields.txt\", header=TRUE)\n",
    "yields"
   ]
  },
  {
   "cell_type": "code",
   "execution_count": 84,
   "metadata": {
    "scrolled": false
   },
   "outputs": [
    {
     "data": {
      "text/plain": [
       " ground     amount     \n",
       " 1:10   Min.   : 3.00  \n",
       " 2:10   1st Qu.: 9.25  \n",
       " 3:10   Median :12.00  \n",
       "        Mean   :11.90  \n",
       "        3rd Qu.:14.75  \n",
       "        Max.   :18.00  "
      ]
     },
     "metadata": {},
     "output_type": "display_data"
    },
    {
     "data": {
      "text/html": [
       "<table>\n",
       "<thead><tr><th scope=col>ground</th><th scope=col>amount</th></tr></thead>\n",
       "<tbody>\n",
       "\t<tr><td>1 </td><td> 6</td></tr>\n",
       "\t<tr><td>1 </td><td>10</td></tr>\n",
       "\t<tr><td>1 </td><td> 8</td></tr>\n",
       "\t<tr><td>1 </td><td> 6</td></tr>\n",
       "\t<tr><td>1 </td><td>14</td></tr>\n",
       "\t<tr><td>1 </td><td>17</td></tr>\n",
       "\t<tr><td>1 </td><td> 9</td></tr>\n",
       "\t<tr><td>1 </td><td>11</td></tr>\n",
       "\t<tr><td>1 </td><td> 7</td></tr>\n",
       "\t<tr><td>1 </td><td>11</td></tr>\n",
       "\t<tr><td>2 </td><td>17</td></tr>\n",
       "\t<tr><td>2 </td><td>15</td></tr>\n",
       "\t<tr><td>2 </td><td> 3</td></tr>\n",
       "\t<tr><td>2 </td><td>11</td></tr>\n",
       "\t<tr><td>2 </td><td>14</td></tr>\n",
       "\t<tr><td>2 </td><td>12</td></tr>\n",
       "\t<tr><td>2 </td><td>12</td></tr>\n",
       "\t<tr><td>2 </td><td> 8</td></tr>\n",
       "\t<tr><td>2 </td><td>10</td></tr>\n",
       "\t<tr><td>2 </td><td>13</td></tr>\n",
       "\t<tr><td>3 </td><td>13</td></tr>\n",
       "\t<tr><td>3 </td><td>16</td></tr>\n",
       "\t<tr><td>3 </td><td> 9</td></tr>\n",
       "\t<tr><td>3 </td><td>12</td></tr>\n",
       "\t<tr><td>3 </td><td>15</td></tr>\n",
       "\t<tr><td>3 </td><td>16</td></tr>\n",
       "\t<tr><td>3 </td><td>17</td></tr>\n",
       "\t<tr><td>3 </td><td>13</td></tr>\n",
       "\t<tr><td>3 </td><td>18</td></tr>\n",
       "\t<tr><td>3 </td><td>14</td></tr>\n",
       "</tbody>\n",
       "</table>\n"
      ],
      "text/latex": [
       "\\begin{tabular}{r|ll}\n",
       " ground & amount\\\\\n",
       "\\hline\n",
       "\t 1  &  6\\\\\n",
       "\t 1  & 10\\\\\n",
       "\t 1  &  8\\\\\n",
       "\t 1  &  6\\\\\n",
       "\t 1  & 14\\\\\n",
       "\t 1  & 17\\\\\n",
       "\t 1  &  9\\\\\n",
       "\t 1  & 11\\\\\n",
       "\t 1  &  7\\\\\n",
       "\t 1  & 11\\\\\n",
       "\t 2  & 17\\\\\n",
       "\t 2  & 15\\\\\n",
       "\t 2  &  3\\\\\n",
       "\t 2  & 11\\\\\n",
       "\t 2  & 14\\\\\n",
       "\t 2  & 12\\\\\n",
       "\t 2  & 12\\\\\n",
       "\t 2  &  8\\\\\n",
       "\t 2  & 10\\\\\n",
       "\t 2  & 13\\\\\n",
       "\t 3  & 13\\\\\n",
       "\t 3  & 16\\\\\n",
       "\t 3  &  9\\\\\n",
       "\t 3  & 12\\\\\n",
       "\t 3  & 15\\\\\n",
       "\t 3  & 16\\\\\n",
       "\t 3  & 17\\\\\n",
       "\t 3  & 13\\\\\n",
       "\t 3  & 18\\\\\n",
       "\t 3  & 14\\\\\n",
       "\\end{tabular}\n"
      ],
      "text/markdown": [
       "\n",
       "ground | amount | \n",
       "|---|---|---|---|---|---|---|---|---|---|---|---|---|---|---|---|---|---|---|---|---|---|---|---|---|---|---|---|---|---|\n",
       "| 1  |  6 | \n",
       "| 1  | 10 | \n",
       "| 1  |  8 | \n",
       "| 1  |  6 | \n",
       "| 1  | 14 | \n",
       "| 1  | 17 | \n",
       "| 1  |  9 | \n",
       "| 1  | 11 | \n",
       "| 1  |  7 | \n",
       "| 1  | 11 | \n",
       "| 2  | 17 | \n",
       "| 2  | 15 | \n",
       "| 2  |  3 | \n",
       "| 2  | 11 | \n",
       "| 2  | 14 | \n",
       "| 2  | 12 | \n",
       "| 2  | 12 | \n",
       "| 2  |  8 | \n",
       "| 2  | 10 | \n",
       "| 2  | 13 | \n",
       "| 3  | 13 | \n",
       "| 3  | 16 | \n",
       "| 3  |  9 | \n",
       "| 3  | 12 | \n",
       "| 3  | 15 | \n",
       "| 3  | 16 | \n",
       "| 3  | 17 | \n",
       "| 3  | 13 | \n",
       "| 3  | 18 | \n",
       "| 3  | 14 | \n",
       "\n",
       "\n"
      ],
      "text/plain": [
       "   ground amount\n",
       "1  1       6    \n",
       "2  1      10    \n",
       "3  1       8    \n",
       "4  1       6    \n",
       "5  1      14    \n",
       "6  1      17    \n",
       "7  1       9    \n",
       "8  1      11    \n",
       "9  1       7    \n",
       "10 1      11    \n",
       "11 2      17    \n",
       "12 2      15    \n",
       "13 2       3    \n",
       "14 2      11    \n",
       "15 2      14    \n",
       "16 2      12    \n",
       "17 2      12    \n",
       "18 2       8    \n",
       "19 2      10    \n",
       "20 2      13    \n",
       "21 3      13    \n",
       "22 3      16    \n",
       "23 3       9    \n",
       "24 3      12    \n",
       "25 3      15    \n",
       "26 3      16    \n",
       "27 3      17    \n",
       "28 3      13    \n",
       "29 3      18    \n",
       "30 3      14    "
      ]
     },
     "metadata": {},
     "output_type": "display_data"
    }
   ],
   "source": [
    "grounds = factor(colnames(yields))\n",
    "amounts = c(yields$sand, yields$clay, yields$loam)\n",
    "\n",
    "yields.table = data.frame(ground=factor(c(rep(1,10), rep(2,10), rep(3,10))),\n",
    "                          amount=amounts)\n",
    "summary(yields.table)\n",
    "yields.table"
   ]
  },
  {
   "cell_type": "code",
   "execution_count": 17,
   "metadata": {
    "scrolled": false
   },
   "outputs": [
    {
     "data": {
      "image/png": "[encoded data removed]",
      "text/plain": [
       "plot without title"
      ]
     },
     "metadata": {},
     "output_type": "display_data"
    }
   ],
   "source": [
    "plot(1:10, yields$sand, col=\"red\", ylab=\"Amount\", xlab=\"yield ID\")\n",
    "points(1:10, yields$clay, col=\"green\")\n",
    "points(1:10, yields$loam, col=\"blue\")"
   ]
  },
  {
   "cell_type": "code",
   "execution_count": 26,
   "metadata": {
    "scrolled": false
   },
   "outputs": [
    {
     "data": {
      "image/png": "[encoded data removed]",
      "text/plain": [
       "plot without title"
      ]
     },
     "metadata": {},
     "output_type": "display_data"
    }
   ],
   "source": [
    "boxplot(yields, use.cols=TRUE)  # Loam hat die meisten Erträge im Schnitt"
   ]
  },
  {
   "cell_type": "code",
   "execution_count": 114,
   "metadata": {
    "scrolled": false
   },
   "outputs": [
    {
     "data": {
      "text/plain": [
       "   Min. 1st Qu.  Median    Mean 3rd Qu.    Max. \n",
       "   3.00    9.25   12.00   11.90   14.75   18.00 "
      ]
     },
     "metadata": {},
     "output_type": "display_data"
    },
    {
     "data": {
      "text/html": [
       "<ol class=list-inline>\n",
       "\t<li>sand</li>\n",
       "\t<li>clay</li>\n",
       "\t<li>loam</li>\n",
       "</ol>\n"
      ],
      "text/latex": [
       "\\begin{enumerate*}\n",
       "\\item sand\n",
       "\\item clay\n",
       "\\item loam\n",
       "\\end{enumerate*}\n"
      ],
      "text/markdown": [
       "1. sand\n",
       "2. clay\n",
       "3. loam\n",
       "\n",
       "\n"
      ],
      "text/plain": [
       "[1] sand clay loam\n",
       "Levels: clay loam sand"
      ]
     },
     "metadata": {},
     "output_type": "display_data"
    },
    {
     "data": {
      "text/html": [
       "<table>\n",
       "<tbody>\n",
       "\t<tr><td>Min.   : 9.0   </td><td>Min.   : 6.00  </td><td>Min.   : 3.00  </td></tr>\n",
       "\t<tr><td>1st Qu.:13.0   </td><td>1st Qu.: 7.25  </td><td>1st Qu.:10.25  </td></tr>\n",
       "\t<tr><td>Median :14.5   </td><td>Median : 9.50  </td><td>Median :12.00  </td></tr>\n",
       "\t<tr><td>Mean   :14.3   </td><td>Mean   : 9.90  </td><td>Mean   :11.50  </td></tr>\n",
       "\t<tr><td>3rd Qu.:16.0   </td><td>3rd Qu.:11.00  </td><td>3rd Qu.:13.75  </td></tr>\n",
       "\t<tr><td>Max.   :18.0   </td><td>Max.   :17.00  </td><td>Max.   :17.00  </td></tr>\n",
       "</tbody>\n",
       "</table>\n"
      ],
      "text/latex": [
       "\\begin{tabular}{lll}\n",
       "\t Min.   : 9.0    & Min.   : 6.00   & Min.   : 3.00  \\\\\n",
       "\t 1st Qu.:13.0    & 1st Qu.: 7.25   & 1st Qu.:10.25  \\\\\n",
       "\t Median :14.5    & Median : 9.50   & Median :12.00  \\\\\n",
       "\t Mean   :14.3    & Mean   : 9.90   & Mean   :11.50  \\\\\n",
       "\t 3rd Qu.:16.0    & 3rd Qu.:11.00   & 3rd Qu.:13.75  \\\\\n",
       "\t Max.   :18.0    & Max.   :17.00   & Max.   :17.00  \\\\\n",
       "\\end{tabular}\n"
      ],
      "text/markdown": [
       "\n",
       "| Min.   : 9.0    | Min.   : 6.00   | Min.   : 3.00   | \n",
       "| 1st Qu.:13.0    | 1st Qu.: 7.25   | 1st Qu.:10.25   | \n",
       "| Median :14.5    | Median : 9.50   | Median :12.00   | \n",
       "| Mean   :14.3    | Mean   : 9.90   | Mean   :11.50   | \n",
       "| 3rd Qu.:16.0    | 3rd Qu.:11.00   | 3rd Qu.:13.75   | \n",
       "| Max.   :18.0    | Max.   :17.00   | Max.   :17.00   | \n",
       "\n",
       "\n"
      ],
      "text/plain": [
       "     [,1]           [,2]            [,3]           \n",
       "[1,] Min.   : 9.0   Min.   : 6.00   Min.   : 3.00  \n",
       "[2,] 1st Qu.:13.0   1st Qu.: 7.25   1st Qu.:10.25  \n",
       "[3,] Median :14.5   Median : 9.50   Median :12.00  \n",
       "[4,] Mean   :14.3   Mean   : 9.90   Mean   :11.50  \n",
       "[5,] 3rd Qu.:16.0   3rd Qu.:11.00   3rd Qu.:13.75  \n",
       "[6,] Max.   :18.0   Max.   :17.00   Max.   :17.00  "
      ]
     },
     "metadata": {},
     "output_type": "display_data"
    },
    {
     "data": {
      "text/html": [
       "<dl class=dl-horizontal>\n",
       "\t<dt>sand</dt>\n",
       "\t\t<dd>9.9</dd>\n",
       "\t<dt>clay</dt>\n",
       "\t\t<dd>11.5</dd>\n",
       "\t<dt>loam</dt>\n",
       "\t\t<dd>14.3</dd>\n",
       "</dl>\n"
      ],
      "text/latex": [
       "\\begin{description*}\n",
       "\\item[sand] 9.9\n",
       "\\item[clay] 11.5\n",
       "\\item[loam] 14.3\n",
       "\\end{description*}\n"
      ],
      "text/markdown": [
       "sand\n",
       ":   9.9clay\n",
       ":   11.5loam\n",
       ":   14.3\n",
       "\n"
      ],
      "text/plain": [
       "sand clay loam \n",
       " 9.9 11.5 14.3 "
      ]
     },
     "metadata": {},
     "output_type": "display_data"
    },
    {
     "data": {
      "text/html": [
       "11.9"
      ],
      "text/latex": [
       "11.9"
      ],
      "text/markdown": [
       "11.9"
      ],
      "text/plain": [
       "[1] 11.9"
      ]
     },
     "metadata": {},
     "output_type": "display_data"
    }
   ],
   "source": [
    "summary(amounts)\n",
    "all_mean = mean(amounts)\n",
    "grounds\n",
    "sapply(grounds, function(x) {summary(yields[x])})\n",
    "group.means = sapply(yields, mean)\n",
    "group.means\n",
    "all_mean"
   ]
  },
  {
   "cell_type": "code",
   "execution_count": 131,
   "metadata": {
    "scrolled": false
   },
   "outputs": [
    {
     "data": {
      "text/html": [
       "2"
      ],
      "text/latex": [
       "2"
      ],
      "text/markdown": [
       "2"
      ],
      "text/plain": [
       "[1] 2"
      ]
     },
     "metadata": {},
     "output_type": "display_data"
    },
    {
     "data": {
      "text/html": [
       "27"
      ],
      "text/latex": [
       "27"
      ],
      "text/markdown": [
       "27"
      ],
      "text/plain": [
       "[1] 27"
      ]
     },
     "metadata": {},
     "output_type": "display_data"
    },
    {
     "data": {
      "text/html": [
       "99.2"
      ],
      "text/latex": [
       "99.2"
      ],
      "text/markdown": [
       "99.2"
      ],
      "text/plain": [
       "[1] 99.2"
      ]
     },
     "metadata": {},
     "output_type": "display_data"
    },
    {
     "data": {
      "text/html": [
       "315.5"
      ],
      "text/latex": [
       "315.5"
      ],
      "text/markdown": [
       "315.5"
      ],
      "text/plain": [
       "[1] 315.5"
      ]
     },
     "metadata": {},
     "output_type": "display_data"
    },
    {
     "data": {
      "text/html": [
       "49.6"
      ],
      "text/latex": [
       "49.6"
      ],
      "text/markdown": [
       "49.6"
      ],
      "text/plain": [
       "[1] 49.6"
      ]
     },
     "metadata": {},
     "output_type": "display_data"
    },
    {
     "data": {
      "text/html": [
       "11.6851851851852"
      ],
      "text/latex": [
       "11.6851851851852"
      ],
      "text/markdown": [
       "11.6851851851852"
      ],
      "text/plain": [
       "[1] 11.68519"
      ]
     },
     "metadata": {},
     "output_type": "display_data"
    },
    {
     "data": {
      "text/html": [
       "4.24469096671949"
      ],
      "text/latex": [
       "4.24469096671949"
      ],
      "text/markdown": [
       "4.24469096671949"
      ],
      "text/plain": [
       "[1] 4.244691"
      ]
     },
     "metadata": {},
     "output_type": "display_data"
    },
    {
     "data": {
      "text/html": [
       "0.0249506538389157"
      ],
      "text/latex": [
       "0.0249506538389157"
      ],
      "text/markdown": [
       "0.0249506538389157"
      ],
      "text/plain": [
       "[1] 0.02495065"
      ]
     },
     "metadata": {},
     "output_type": "display_data"
    }
   ],
   "source": [
    "df.g = 2\n",
    "df.r = 27\n",
    "\n",
    "#Quadratsumme\n",
    "SQZ = sum(10*(group.means - all_mean)^2)\n",
    "SQI = sum((t(yields) - (group.means))^2)\n",
    "\n",
    "# Mean sq\n",
    "msq.g = SQZ / df.g\n",
    "msq.r = SQI / df.r\n",
    "\n",
    "f = msq.g / msq.r\n",
    "\n",
    "pstar = 1- pf(f, df.g, df.r)\n",
    "\n",
    "df.g\n",
    "df.r\n",
    "SQZ\n",
    "SQI\n",
    "msq.g\n",
    "msq.r\n",
    "f\n",
    "pstar"
   ]
  },
  {
   "cell_type": "code",
   "execution_count": 118,
   "metadata": {
    "scrolled": false
   },
   "outputs": [
    {
     "data": {
      "text/plain": [
       "            Df Sum Sq Mean Sq F value Pr(>F)  \n",
       "ground       2   99.2   49.60   4.245  0.025 *\n",
       "Residuals   27  315.5   11.69                 \n",
       "---\n",
       "Signif. codes:  0 ‘***’ 0.001 ‘**’ 0.01 ‘*’ 0.05 ‘.’ 0.1 ‘ ’ 1"
      ]
     },
     "metadata": {},
     "output_type": "display_data"
    }
   ],
   "source": [
    "yields.aov = aov(amount~ground, data=yields.table)\n",
    "summary(yields.aov)"
   ]
  },
  {
   "cell_type": "code",
   "execution_count": 124,
   "metadata": {},
   "outputs": [
    {
     "data": {
      "text/html": [
       "3.3541308285292"
      ],
      "text/latex": [
       "3.3541308285292"
      ],
      "text/markdown": [
       "3.3541308285292"
      ],
      "text/plain": [
       "[1] 3.354131"
      ]
     },
     "metadata": {},
     "output_type": "display_data"
    }
   ],
   "source": [
    "qf(0.95, df.g, df.r)\n",
    "# Verwerfe H0, denn f ist größer"
   ]
  },
  {
   "cell_type": "code",
   "execution_count": 125,
   "metadata": {
    "scrolled": false
   },
   "outputs": [
    {
     "data": {
      "image/png": "[encoded data removed]",
      "text/plain": [
       "Plot with title “Normal Q-Q Plot”"
      ]
     },
     "metadata": {},
     "output_type": "display_data"
    },
    {
     "data": {
      "image/png": "[encoded data removed]",
      "text/plain": [
       "plot without title"
      ]
     },
     "metadata": {},
     "output_type": "display_data"
    },
    {
     "data": {
      "image/png": "[encoded data removed]",
      "text/plain": [
       "plot without title"
      ]
     },
     "metadata": {},
     "output_type": "display_data"
    }
   ],
   "source": [
    "res = residuals(yields.aov)\n",
    "qqnorm(res, pch=16)\n",
    "qqline(res)\n",
    "boxplot(yields.table$amount ~ yields.table$ground)\n",
    "\n",
    "plot(res ~ fitted.values(yields.aov), pch=16)\n",
    "abline(h=0)"
   ]
  },
  {
   "cell_type": "code",
   "execution_count": 120,
   "metadata": {
    "scrolled": false
   },
   "outputs": [
    {
     "data": {
      "text/plain": [
       "\n",
       "\tPairwise comparisons using t tests with pooled SD \n",
       "\n",
       "data:  yields.table$amount and yields.table$ground \n",
       "\n",
       "  1      2     \n",
       "2 0.3046 -     \n",
       "3 0.0077 0.0781\n",
       "\n",
       "P value adjustment method: none "
      ]
     },
     "metadata": {},
     "output_type": "display_data"
    },
    {
     "data": {
      "text/plain": [
       "\n",
       "\tPairwise comparisons using t tests with pooled SD \n",
       "\n",
       "data:  yields.table$amount and yields.table$ground \n",
       "\n",
       "  1     2    \n",
       "2 0.914 -    \n",
       "3 0.023 0.234\n",
       "\n",
       "P value adjustment method: bonferroni "
      ]
     },
     "metadata": {},
     "output_type": "display_data"
    }
   ],
   "source": [
    "pairwise.t.test(yields.table$amount, g=yields.table$ground,\n",
    "               p.adjust.method=\"none\")\n",
    "pairwise.t.test(yields.table$amount, g=yields.table$ground,\n",
    "                p.adjust.method=\"bonferroni\")\n",
    "# Signifikant unterscheiden sich 2-1 und 2-3"
   ]
  },
  {
   "cell_type": "code",
   "execution_count": 126,
   "metadata": {
    "scrolled": true
   },
   "outputs": [
    {
     "data": {
      "text/plain": [
       "  Tukey multiple comparisons of means\n",
       "    95% family-wise confidence level\n",
       "\n",
       "Fit: aov(formula = amount ~ ground, data = yields.table)\n",
       "\n",
       "$ground\n",
       "    diff        lwr      upr     p adj\n",
       "2-1  1.6 -2.1903777 5.390378 0.5546301\n",
       "3-1  4.4  0.6096223 8.190378 0.0204414\n",
       "3-2  2.8 -0.9903777 6.590378 0.1785489\n"
      ]
     },
     "metadata": {},
     "output_type": "display_data"
    }
   ],
   "source": [
    "TukeyHSD(yields.aov)\n",
    "#2-1 and 3-2 enthalten die 0\n",
    "# Verwerfe hypothese für gleiches mittel sand-loam"
   ]
  },
  {
   "cell_type": "code",
   "execution_count": null,
   "metadata": {},
   "outputs": [],
   "source": []
  }
 ],
 "metadata": {
  "kernelspec": {
   "display_name": "R",
   "language": "R",
   "name": "ir"
  },
  "language_info": {
   "codemirror_mode": "r",
   "file_extension": ".r",
   "mimetype": "text/x-r-source",
   "name": "R",
   "pygments_lexer": "r",
   "version": "3.4.2"
  }
 },
 "nbformat": 4,
 "nbformat_minor": 2
}
