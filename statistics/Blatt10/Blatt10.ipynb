{
 "cells": [
  {
   "cell_type": "code",
   "execution_count": 4,
   "metadata": {},
   "outputs": [],
   "source": [
    "wine = read.table(\"wine.txt\", header=TRUE)"
   ]
  },
  {
   "cell_type": "code",
   "execution_count": 5,
   "metadata": {},
   "outputs": [
    {
     "data": {
      "text/html": [
       "<table>\n",
       "<thead><tr><th scope=col>year</th><th scope=col>price</th><th scope=col>temp</th><th scope=col>h.rain</th><th scope=col>w.rain</th></tr></thead>\n",
       "<tbody>\n",
       "\t<tr><td>1952</td><td> 37 </td><td>17.1</td><td>160 </td><td>600 </td></tr>\n",
       "\t<tr><td>1953</td><td> 63 </td><td>16.7</td><td> 80 </td><td>690 </td></tr>\n",
       "\t<tr><td>1955</td><td> 45 </td><td>17.1</td><td>130 </td><td>502 </td></tr>\n",
       "\t<tr><td>1957</td><td> 22 </td><td>16.1</td><td>110 </td><td>420 </td></tr>\n",
       "\t<tr><td>1958</td><td> 18 </td><td>16.4</td><td>187 </td><td>582 </td></tr>\n",
       "\t<tr><td>1959</td><td> 66 </td><td>17.5</td><td>187 </td><td>485 </td></tr>\n",
       "\t<tr><td>1960</td><td> 14 </td><td>16.4</td><td>290 </td><td>763 </td></tr>\n",
       "\t<tr><td>1961</td><td>100 </td><td>17.3</td><td> 38 </td><td>830 </td></tr>\n",
       "\t<tr><td>1962</td><td> 33 </td><td>16.3</td><td> 52 </td><td>697 </td></tr>\n",
       "\t<tr><td>1963</td><td> 17 </td><td>15.7</td><td>155 </td><td>608 </td></tr>\n",
       "\t<tr><td>1964</td><td> 31 </td><td>17.3</td><td> 96 </td><td>402 </td></tr>\n",
       "\t<tr><td>1965</td><td> 11 </td><td>15.4</td><td>267 </td><td>602 </td></tr>\n",
       "\t<tr><td>1966</td><td> 47 </td><td>16.5</td><td> 86 </td><td>819 </td></tr>\n",
       "\t<tr><td>1967</td><td> 19 </td><td>16.2</td><td>118 </td><td>714 </td></tr>\n",
       "\t<tr><td>1968</td><td> 11 </td><td>16.2</td><td>292 </td><td>610 </td></tr>\n",
       "\t<tr><td>1969</td><td> 12 </td><td>16.5</td><td>244 </td><td>575 </td></tr>\n",
       "\t<tr><td>1970</td><td> 40 </td><td>16.7</td><td> 89 </td><td>622 </td></tr>\n",
       "\t<tr><td>1971</td><td> 27 </td><td>16.8</td><td>112 </td><td>551 </td></tr>\n",
       "\t<tr><td>1972</td><td> 10 </td><td>15.0</td><td>158 </td><td>536 </td></tr>\n",
       "\t<tr><td>1973</td><td> 16 </td><td>17.1</td><td>123 </td><td>376 </td></tr>\n",
       "\t<tr><td>1974</td><td> 11 </td><td>16.3</td><td>184 </td><td>574 </td></tr>\n",
       "\t<tr><td>1975</td><td> 30 </td><td>16.9</td><td>171 </td><td>572 </td></tr>\n",
       "\t<tr><td>1976</td><td> 25 </td><td>17.6</td><td>247 </td><td>418 </td></tr>\n",
       "\t<tr><td>1977</td><td> 11 </td><td>15.6</td><td> 87 </td><td>821 </td></tr>\n",
       "\t<tr><td>1978</td><td> 27 </td><td>15.8</td><td> 51 </td><td>763 </td></tr>\n",
       "\t<tr><td>1979</td><td> 21 </td><td>16.2</td><td>122 </td><td>717 </td></tr>\n",
       "\t<tr><td>1980</td><td> 14 </td><td>16.0</td><td> 74 </td><td>578 </td></tr>\n",
       "</tbody>\n",
       "</table>\n"
      ],
      "text/latex": [
       "\\begin{tabular}{r|lllll}\n",
       " year & price & temp & h.rain & w.rain\\\\\n",
       "\\hline\n",
       "\t 1952 &  37  & 17.1 & 160  & 600 \\\\\n",
       "\t 1953 &  63  & 16.7 &  80  & 690 \\\\\n",
       "\t 1955 &  45  & 17.1 & 130  & 502 \\\\\n",
       "\t 1957 &  22  & 16.1 & 110  & 420 \\\\\n",
       "\t 1958 &  18  & 16.4 & 187  & 582 \\\\\n",
       "\t 1959 &  66  & 17.5 & 187  & 485 \\\\\n",
       "\t 1960 &  14  & 16.4 & 290  & 763 \\\\\n",
       "\t 1961 & 100  & 17.3 &  38  & 830 \\\\\n",
       "\t 1962 &  33  & 16.3 &  52  & 697 \\\\\n",
       "\t 1963 &  17  & 15.7 & 155  & 608 \\\\\n",
       "\t 1964 &  31  & 17.3 &  96  & 402 \\\\\n",
       "\t 1965 &  11  & 15.4 & 267  & 602 \\\\\n",
       "\t 1966 &  47  & 16.5 &  86  & 819 \\\\\n",
       "\t 1967 &  19  & 16.2 & 118  & 714 \\\\\n",
       "\t 1968 &  11  & 16.2 & 292  & 610 \\\\\n",
       "\t 1969 &  12  & 16.5 & 244  & 575 \\\\\n",
       "\t 1970 &  40  & 16.7 &  89  & 622 \\\\\n",
       "\t 1971 &  27  & 16.8 & 112  & 551 \\\\\n",
       "\t 1972 &  10  & 15.0 & 158  & 536 \\\\\n",
       "\t 1973 &  16  & 17.1 & 123  & 376 \\\\\n",
       "\t 1974 &  11  & 16.3 & 184  & 574 \\\\\n",
       "\t 1975 &  30  & 16.9 & 171  & 572 \\\\\n",
       "\t 1976 &  25  & 17.6 & 247  & 418 \\\\\n",
       "\t 1977 &  11  & 15.6 &  87  & 821 \\\\\n",
       "\t 1978 &  27  & 15.8 &  51  & 763 \\\\\n",
       "\t 1979 &  21  & 16.2 & 122  & 717 \\\\\n",
       "\t 1980 &  14  & 16.0 &  74  & 578 \\\\\n",
       "\\end{tabular}\n"
      ],
      "text/markdown": [
       "\n",
       "year | price | temp | h.rain | w.rain | \n",
       "|---|---|---|---|---|---|---|---|---|---|---|---|---|---|---|---|---|---|---|---|---|---|---|---|---|---|---|\n",
       "| 1952 |  37  | 17.1 | 160  | 600  | \n",
       "| 1953 |  63  | 16.7 |  80  | 690  | \n",
       "| 1955 |  45  | 17.1 | 130  | 502  | \n",
       "| 1957 |  22  | 16.1 | 110  | 420  | \n",
       "| 1958 |  18  | 16.4 | 187  | 582  | \n",
       "| 1959 |  66  | 17.5 | 187  | 485  | \n",
       "| 1960 |  14  | 16.4 | 290  | 763  | \n",
       "| 1961 | 100  | 17.3 |  38  | 830  | \n",
       "| 1962 |  33  | 16.3 |  52  | 697  | \n",
       "| 1963 |  17  | 15.7 | 155  | 608  | \n",
       "| 1964 |  31  | 17.3 |  96  | 402  | \n",
       "| 1965 |  11  | 15.4 | 267  | 602  | \n",
       "| 1966 |  47  | 16.5 |  86  | 819  | \n",
       "| 1967 |  19  | 16.2 | 118  | 714  | \n",
       "| 1968 |  11  | 16.2 | 292  | 610  | \n",
       "| 1969 |  12  | 16.5 | 244  | 575  | \n",
       "| 1970 |  40  | 16.7 |  89  | 622  | \n",
       "| 1971 |  27  | 16.8 | 112  | 551  | \n",
       "| 1972 |  10  | 15.0 | 158  | 536  | \n",
       "| 1973 |  16  | 17.1 | 123  | 376  | \n",
       "| 1974 |  11  | 16.3 | 184  | 574  | \n",
       "| 1975 |  30  | 16.9 | 171  | 572  | \n",
       "| 1976 |  25  | 17.6 | 247  | 418  | \n",
       "| 1977 |  11  | 15.6 |  87  | 821  | \n",
       "| 1978 |  27  | 15.8 |  51  | 763  | \n",
       "| 1979 |  21  | 16.2 | 122  | 717  | \n",
       "| 1980 |  14  | 16.0 |  74  | 578  | \n",
       "\n",
       "\n"
      ],
      "text/plain": [
       "   year price temp h.rain w.rain\n",
       "1  1952  37   17.1 160    600   \n",
       "2  1953  63   16.7  80    690   \n",
       "3  1955  45   17.1 130    502   \n",
       "4  1957  22   16.1 110    420   \n",
       "5  1958  18   16.4 187    582   \n",
       "6  1959  66   17.5 187    485   \n",
       "7  1960  14   16.4 290    763   \n",
       "8  1961 100   17.3  38    830   \n",
       "9  1962  33   16.3  52    697   \n",
       "10 1963  17   15.7 155    608   \n",
       "11 1964  31   17.3  96    402   \n",
       "12 1965  11   15.4 267    602   \n",
       "13 1966  47   16.5  86    819   \n",
       "14 1967  19   16.2 118    714   \n",
       "15 1968  11   16.2 292    610   \n",
       "16 1969  12   16.5 244    575   \n",
       "17 1970  40   16.7  89    622   \n",
       "18 1971  27   16.8 112    551   \n",
       "19 1972  10   15.0 158    536   \n",
       "20 1973  16   17.1 123    376   \n",
       "21 1974  11   16.3 184    574   \n",
       "22 1975  30   16.9 171    572   \n",
       "23 1976  25   17.6 247    418   \n",
       "24 1977  11   15.6  87    821   \n",
       "25 1978  27   15.8  51    763   \n",
       "26 1979  21   16.2 122    717   \n",
       "27 1980  14   16.0  74    578   "
      ]
     },
     "metadata": {},
     "output_type": "display_data"
    },
    {
     "data": {
      "text/plain": [
       "      year          price             temp           h.rain     \n",
       " Min.   :1952   Min.   : 10.00   Min.   :15.00   Min.   : 38.0  \n",
       " 1st Qu.:1960   1st Qu.: 14.00   1st Qu.:16.15   1st Qu.: 88.0  \n",
       " Median :1967   Median : 22.00   Median :16.40   Median :123.0  \n",
       " Mean   :1967   Mean   : 28.81   Mean   :16.47   Mean   :144.8  \n",
       " 3rd Qu.:1974   3rd Qu.: 35.00   3rd Qu.:17.00   3rd Qu.:185.5  \n",
       " Max.   :1980   Max.   :100.00   Max.   :17.60   Max.   :292.0  \n",
       "     w.rain     \n",
       " Min.   :376.0  \n",
       " 1st Qu.:543.5  \n",
       " Median :600.0  \n",
       " Mean   :608.4  \n",
       " 3rd Qu.:705.5  \n",
       " Max.   :830.0  "
      ]
     },
     "metadata": {},
     "output_type": "display_data"
    },
    {
     "data": {
      "image/png": "[encoded data removed]",
      "text/plain": [
       "plot without title"
      ]
     },
     "metadata": {},
     "output_type": "display_data"
    }
   ],
   "source": [
    "wine\n",
    "summary(wine)\n",
    "help(wine)\n",
    "pairs(wine)"
   ]
  },
  {
   "cell_type": "code",
   "execution_count": 25,
   "metadata": {},
   "outputs": [
    {
     "data": {
      "text/plain": [
       "\n",
       "Call:\n",
       "lm(formula = price ~ temp + h.rain + w.rain, data = wine)\n",
       "\n",
       "Residuals:\n",
       "    Min      1Q  Median      3Q     Max \n",
       "-16.580  -8.601  -4.057   6.813  29.064 \n",
       "\n",
       "Coefficients:\n",
       "              Estimate Std. Error t value Pr(>|t|)    \n",
       "(Intercept) -365.45179   77.63849  -4.707 9.66e-05 ***\n",
       "temp          22.50086    4.28502   5.251 2.51e-05 ***\n",
       "h.rain        -0.09296    0.03746  -2.481   0.0208 *  \n",
       "w.rain         0.06103    0.02247   2.717   0.0123 *  \n",
       "---\n",
       "Signif. codes:  0 ‘***’ 0.001 ‘**’ 0.01 ‘*’ 0.05 ‘.’ 0.1 ‘ ’ 1\n",
       "\n",
       "Residual standard error: 13.33 on 23 degrees of freedom\n",
       "Multiple R-squared:  0.6421,\tAdjusted R-squared:  0.5954 \n",
       "F-statistic: 13.75 on 3 and 23 DF,  p-value: 2.389e-05\n"
      ]
     },
     "metadata": {},
     "output_type": "display_data"
    }
   ],
   "source": [
    "wine.model = lm(price ~ temp + h.rain + w.rain, data=wine)\n",
    "summary(wine.model)\n",
    "\n",
    "# negative coefficient means that this factor lowers the price\n",
    "# the higher it is: This is the case for h.rain (small effect only)\n",
    "# Higher Temperature makes for a higher price and w.rain (small effect only)"
   ]
  },
  {
   "cell_type": "code",
   "execution_count": 9,
   "metadata": {
    "scrolled": false
   },
   "outputs": [
    {
     "data": {
      "text/html": [
       "<dl class=dl-horizontal>\n",
       "\t<dt>1</dt>\n",
       "\t\t<dd>41.0572594012055</dd>\n",
       "\t<dt>2</dt>\n",
       "\t\t<dd>44.9866784370882</dd>\n",
       "\t<dt>3</dt>\n",
       "\t\t<dd>37.8651387252959</dd>\n",
       "\t<dt>4</dt>\n",
       "\t\t<dd>12.2190215162251</dd>\n",
       "\t<dt>5</dt>\n",
       "\t\t<dd>21.6981160294159</dd>\n",
       "\t<dt>6</dt>\n",
       "\t\t<dd>40.5290936914482</dd>\n",
       "\t<dt>7</dt>\n",
       "\t\t<dd>23.1695060812832</dd>\n",
       "\t<dt>8</dt>\n",
       "\t\t<dd>70.93590841947</dd>\n",
       "\t<dt>9</dt>\n",
       "\t\t<dd>39.0165017339987</dd>\n",
       "\t<dt>10</dt>\n",
       "\t\t<dd>10.5091131921264</dd>\n",
       "\t<dt>11</dt>\n",
       "\t\t<dd>39.4229793003119</dd>\n",
       "\t<dt>12</dt>\n",
       "\t\t<dd>-7.01914085874539</dd>\n",
       "\t<dt>13</dt>\n",
       "\t\t<dd>47.8016784274688</dd>\n",
       "\t<dt>14</dt>\n",
       "\t\t<dd>31.6684036438205</dd>\n",
       "\t<dt>15</dt>\n",
       "\t\t<dd>9.14572673104001</dd>\n",
       "\t<dt>16</dt>\n",
       "\t\t<dd>18.2221189991057</dd>\n",
       "\t<dt>17</dt>\n",
       "\t\t<dd>39.9999339980704</dd>\n",
       "\t<dt>18</dt>\n",
       "\t\t<dd>35.7787072059066</dd>\n",
       "\t<dt>19</dt>\n",
       "\t\t<dd>-9.91458002984103</dd>\n",
       "\t<dt>20</dt>\n",
       "\t\t<dd>30.8260211405812</dd>\n",
       "\t<dt>21</dt>\n",
       "\t\t<dd>19.2386730398273</dd>\n",
       "\t<dt>22</dt>\n",
       "\t\t<dd>33.8256418117978</dd>\n",
       "\t<dt>23</dt>\n",
       "\t\t<dd>33.1123727041193</dd>\n",
       "\t<dt>24</dt>\n",
       "\t\t<dd>27.5800029691674</dd>\n",
       "\t<dt>25</dt>\n",
       "\t\t<dd>31.8870540530061</dd>\n",
       "\t<dt>26</dt>\n",
       "\t\t<dd>31.4796450064194</dd>\n",
       "\t<dt>27</dt>\n",
       "\t\t<dd>22.9584246303868</dd>\n",
       "</dl>\n"
      ],
      "text/latex": [
       "\\begin{description*}\n",
       "\\item[1] 41.0572594012055\n",
       "\\item[2] 44.9866784370882\n",
       "\\item[3] 37.8651387252959\n",
       "\\item[4] 12.2190215162251\n",
       "\\item[5] 21.6981160294159\n",
       "\\item[6] 40.5290936914482\n",
       "\\item[7] 23.1695060812832\n",
       "\\item[8] 70.93590841947\n",
       "\\item[9] 39.0165017339987\n",
       "\\item[10] 10.5091131921264\n",
       "\\item[11] 39.4229793003119\n",
       "\\item[12] -7.01914085874539\n",
       "\\item[13] 47.8016784274688\n",
       "\\item[14] 31.6684036438205\n",
       "\\item[15] 9.14572673104001\n",
       "\\item[16] 18.2221189991057\n",
       "\\item[17] 39.9999339980704\n",
       "\\item[18] 35.7787072059066\n",
       "\\item[19] -9.91458002984103\n",
       "\\item[20] 30.8260211405812\n",
       "\\item[21] 19.2386730398273\n",
       "\\item[22] 33.8256418117978\n",
       "\\item[23] 33.1123727041193\n",
       "\\item[24] 27.5800029691674\n",
       "\\item[25] 31.8870540530061\n",
       "\\item[26] 31.4796450064194\n",
       "\\item[27] 22.9584246303868\n",
       "\\end{description*}\n"
      ],
      "text/markdown": [
       "1\n",
       ":   41.05725940120552\n",
       ":   44.98667843708823\n",
       ":   37.86513872529594\n",
       ":   12.21902151622515\n",
       ":   21.69811602941596\n",
       ":   40.52909369144827\n",
       ":   23.16950608128328\n",
       ":   70.935908419479\n",
       ":   39.016501733998710\n",
       ":   10.509113192126411\n",
       ":   39.422979300311912\n",
       ":   -7.0191408587453913\n",
       ":   47.801678427468814\n",
       ":   31.668403643820515\n",
       ":   9.1457267310400116\n",
       ":   18.222118999105717\n",
       ":   39.999933998070418\n",
       ":   35.778707205906619\n",
       ":   -9.9145800298410320\n",
       ":   30.826021140581221\n",
       ":   19.238673039827322\n",
       ":   33.825641811797823\n",
       ":   33.112372704119324\n",
       ":   27.580002969167425\n",
       ":   31.887054053006126\n",
       ":   31.479645006419427\n",
       ":   22.9584246303868\n",
       "\n"
      ],
      "text/plain": [
       "        1         2         3         4         5         6         7         8 \n",
       "41.057259 44.986678 37.865139 12.219022 21.698116 40.529094 23.169506 70.935908 \n",
       "        9        10        11        12        13        14        15        16 \n",
       "39.016502 10.509113 39.422979 -7.019141 47.801678 31.668404  9.145727 18.222119 \n",
       "       17        18        19        20        21        22        23        24 \n",
       "39.999934 35.778707 -9.914580 30.826021 19.238673 33.825642 33.112373 27.580003 \n",
       "       25        26        27 \n",
       "31.887054 31.479645 22.958425 "
      ]
     },
     "metadata": {},
     "output_type": "display_data"
    }
   ],
   "source": [
    "fitted(wine.model)"
   ]
  },
  {
   "cell_type": "code",
   "execution_count": 10,
   "metadata": {},
   "outputs": [],
   "source": [
    "wine.year.model = lm(price ~ temp + h.rain + w.rain + year, data=wine)\n",
    "# Year might me useful because wine gets more expensive the older it is"
   ]
  },
  {
   "cell_type": "code",
   "execution_count": 53,
   "metadata": {},
   "outputs": [
    {
     "data": {
      "text/plain": [
       "\n",
       "Call:\n",
       "lm(formula = price ~ temp + h.rain + w.rain + year, data = wine)\n",
       "\n",
       "Residuals:\n",
       "    Min      1Q  Median      3Q     Max \n",
       "-14.077  -9.040  -1.018   3.172  26.991 \n",
       "\n",
       "Coefficients:\n",
       "              Estimate Std. Error t value Pr(>|t|)    \n",
       "(Intercept) 1305.52761  597.31137   2.186  0.03977 *  \n",
       "temp          19.25337    3.92945   4.900 6.72e-05 ***\n",
       "h.rain        -0.10121    0.03297  -3.070  0.00561 ** \n",
       "w.rain         0.05704    0.01975   2.889  0.00853 ** \n",
       "year          -0.82055    0.29140  -2.816  0.01007 *  \n",
       "---\n",
       "Signif. codes:  0 ‘***’ 0.001 ‘**’ 0.01 ‘*’ 0.05 ‘.’ 0.1 ‘ ’ 1\n",
       "\n",
       "Residual standard error: 11.69 on 22 degrees of freedom\n",
       "Multiple R-squared:  0.7369,\tAdjusted R-squared:  0.6891 \n",
       "F-statistic: 15.41 on 4 and 22 DF,  p-value: 3.806e-06\n"
      ]
     },
     "metadata": {},
     "output_type": "display_data"
    },
    {
     "data": {
      "text/html": [
       "<strong>$r.squared</strong> = 0.642088980919613"
      ],
      "text/latex": [
       "\\textbf{\\$r.squared} = 0.642088980919613"
      ],
      "text/markdown": [
       "**$r.squared** = 0.642088980919613"
      ],
      "text/plain": [
       "$r.squared\n",
       "[1] 0.642089\n"
      ]
     },
     "metadata": {},
     "output_type": "display_data"
    },
    {
     "data": {
      "text/html": [
       "<strong>$sigma</strong> = 13.3296898554663"
      ],
      "text/latex": [
       "\\textbf{\\$sigma} = 13.3296898554663"
      ],
      "text/markdown": [
       "**$sigma** = 13.3296898554663"
      ],
      "text/plain": [
       "$sigma\n",
       "[1] 13.32969\n"
      ]
     },
     "metadata": {},
     "output_type": "display_data"
    },
    {
     "data": {
      "text/html": [
       "<strong>$r.squared</strong> = 0.736908910750189"
      ],
      "text/latex": [
       "\\textbf{\\$r.squared} = 0.736908910750189"
      ],
      "text/markdown": [
       "**$r.squared** = 0.736908910750189"
      ],
      "text/plain": [
       "$r.squared\n",
       "[1] 0.7369089\n"
      ]
     },
     "metadata": {},
     "output_type": "display_data"
    },
    {
     "data": {
      "text/html": [
       "<strong>$sigma</strong> = 11.6852540044808"
      ],
      "text/latex": [
       "\\textbf{\\$sigma} = 11.6852540044808"
      ],
      "text/markdown": [
       "**$sigma** = 11.6852540044808"
      ],
      "text/plain": [
       "$sigma\n",
       "[1] 11.68525\n"
      ]
     },
     "metadata": {},
     "output_type": "display_data"
    }
   ],
   "source": [
    "summary(wine.year.model)\n",
    "# Year hat negatives Vorzeichen --> ältere Jahre sind teurer\n",
    "summary(wine.model)[\"r.squared\"]\n",
    "summary(wine.model)[\"sigma\"]\n",
    "summary(wine.year.model)[\"r.squared\"]\n",
    "summary(wine.year.model)[\"sigma\"]\n"
   ]
  },
  {
   "cell_type": "code",
   "execution_count": 15,
   "metadata": {},
   "outputs": [],
   "source": [
    "wine.log.model = lm(log(price) ~ temp + h.rain + w.rain + year, data=wine)"
   ]
  },
  {
   "cell_type": "code",
   "execution_count": 16,
   "metadata": {},
   "outputs": [
    {
     "data": {
      "text/html": [
       "<dl class=dl-horizontal>\n",
       "\t<dt>1</dt>\n",
       "\t\t<dd>3.84149852828925</dd>\n",
       "\t<dt>2</dt>\n",
       "\t\t<dd>3.97727092353863</dd>\n",
       "\t<dt>3</dt>\n",
       "\t\t<dd>3.76356403645386</dd>\n",
       "\t<dt>4</dt>\n",
       "\t\t<dd>3.0729433261572</dd>\n",
       "\t<dt>5</dt>\n",
       "\t\t<dd>3.13953717972996</dd>\n",
       "\t<dt>6</dt>\n",
       "\t\t<dd>3.6796381744178</dd>\n",
       "\t<dt>7</dt>\n",
       "\t\t<dd>2.92145834895124</dd>\n",
       "\t<dt>8</dt>\n",
       "\t\t<dd>4.47871804398474</dd>\n",
       "\t<dt>9</dt>\n",
       "\t\t<dd>3.62395113774034</dd>\n",
       "\t<dt>10</dt>\n",
       "\t\t<dd>2.73575155057956</dd>\n",
       "\t<dt>11</dt>\n",
       "\t\t<dd>3.67585907619046</dd>\n",
       "\t<dt>12</dt>\n",
       "\t\t<dd>2.07444736184598</dd>\n",
       "\t<dt>13</dt>\n",
       "\t\t<dd>3.66890469428377</dd>\n",
       "\t<dt>14</dt>\n",
       "\t\t<dd>3.21328876060424</dd>\n",
       "\t<dt>15</dt>\n",
       "\t\t<dd>2.41223191039807</dd>\n",
       "\t<dt>16</dt>\n",
       "\t\t<dd>2.71150701148686</dd>\n",
       "\t<dt>17</dt>\n",
       "\t\t<dd>3.44814472606327</dd>\n",
       "\t<dt>18</dt>\n",
       "\t\t<dd>3.31445246589327</dd>\n",
       "\t<dt>19</dt>\n",
       "\t\t<dd>1.98604335273978</dd>\n",
       "\t<dt>20</dt>\n",
       "\t\t<dd>3.20061990935426</dd>\n",
       "\t<dt>21</dt>\n",
       "\t\t<dd>2.68970321554561</dd>\n",
       "\t<dt>22</dt>\n",
       "\t\t<dd>3.08291072119739</dd>\n",
       "\t<dt>23</dt>\n",
       "\t\t<dd>3.02241956246294</dd>\n",
       "\t<dt>24</dt>\n",
       "\t\t<dd>2.84284043509504</dd>\n",
       "\t<dt>25</dt>\n",
       "\t\t<dd>3.00772967563723</dd>\n",
       "\t<dt>26</dt>\n",
       "\t\t<dd>2.90966491762211</dd>\n",
       "\t<dt>27</dt>\n",
       "\t\t<dd>2.77507495851877</dd>\n",
       "</dl>\n"
      ],
      "text/latex": [
       "\\begin{description*}\n",
       "\\item[1] 3.84149852828925\n",
       "\\item[2] 3.97727092353863\n",
       "\\item[3] 3.76356403645386\n",
       "\\item[4] 3.0729433261572\n",
       "\\item[5] 3.13953717972996\n",
       "\\item[6] 3.6796381744178\n",
       "\\item[7] 2.92145834895124\n",
       "\\item[8] 4.47871804398474\n",
       "\\item[9] 3.62395113774034\n",
       "\\item[10] 2.73575155057956\n",
       "\\item[11] 3.67585907619046\n",
       "\\item[12] 2.07444736184598\n",
       "\\item[13] 3.66890469428377\n",
       "\\item[14] 3.21328876060424\n",
       "\\item[15] 2.41223191039807\n",
       "\\item[16] 2.71150701148686\n",
       "\\item[17] 3.44814472606327\n",
       "\\item[18] 3.31445246589327\n",
       "\\item[19] 1.98604335273978\n",
       "\\item[20] 3.20061990935426\n",
       "\\item[21] 2.68970321554561\n",
       "\\item[22] 3.08291072119739\n",
       "\\item[23] 3.02241956246294\n",
       "\\item[24] 2.84284043509504\n",
       "\\item[25] 3.00772967563723\n",
       "\\item[26] 2.90966491762211\n",
       "\\item[27] 2.77507495851877\n",
       "\\end{description*}\n"
      ],
      "text/markdown": [
       "1\n",
       ":   3.841498528289252\n",
       ":   3.977270923538633\n",
       ":   3.763564036453864\n",
       ":   3.07294332615725\n",
       ":   3.139537179729966\n",
       ":   3.67963817441787\n",
       ":   2.921458348951248\n",
       ":   4.478718043984749\n",
       ":   3.6239511377403410\n",
       ":   2.7357515505795611\n",
       ":   3.6758590761904612\n",
       ":   2.0744473618459813\n",
       ":   3.6689046942837714\n",
       ":   3.2132887606042415\n",
       ":   2.4122319103980716\n",
       ":   2.7115070114868617\n",
       ":   3.4481447260632718\n",
       ":   3.3144524658932719\n",
       ":   1.9860433527397820\n",
       ":   3.2006199093542621\n",
       ":   2.6897032155456122\n",
       ":   3.0829107211973923\n",
       ":   3.0224195624629424\n",
       ":   2.8428404350950425\n",
       ":   3.0077296756372326\n",
       ":   2.9096649176221127\n",
       ":   2.77507495851877\n",
       "\n"
      ],
      "text/plain": [
       "       1        2        3        4        5        6        7        8 \n",
       "3.841499 3.977271 3.763564 3.072943 3.139537 3.679638 2.921458 4.478718 \n",
       "       9       10       11       12       13       14       15       16 \n",
       "3.623951 2.735752 3.675859 2.074447 3.668905 3.213289 2.412232 2.711507 \n",
       "      17       18       19       20       21       22       23       24 \n",
       "3.448145 3.314452 1.986043 3.200620 2.689703 3.082911 3.022420 2.842840 \n",
       "      25       26       27 \n",
       "3.007730 2.909665 2.775075 "
      ]
     },
     "metadata": {},
     "output_type": "display_data"
    }
   ],
   "source": [
    "fitted(wine.log.model)"
   ]
  },
  {
   "cell_type": "code",
   "execution_count": 34,
   "metadata": {},
   "outputs": [
    {
     "data": {
      "image/png": "[encoded data removed]",
      "text/plain": [
       "plot without title"
      ]
     },
     "metadata": {},
     "output_type": "display_data"
    },
    {
     "data": {
      "image/png": "[encoded data removed]",
      "text/plain": [
       "plot without title"
      ]
     },
     "metadata": {},
     "output_type": "display_data"
    }
   ],
   "source": [
    "qqplot(1:27,residuals( wine.year.model))  # Error not normally distributed\n",
    "qqplot(1:27,residuals(wine.log.model))  # Error more or less normally distributed"
   ]
  },
  {
   "cell_type": "code",
   "execution_count": 19,
   "metadata": {},
   "outputs": [],
   "source": [
    "wine.log.noyear.model = lm(log(price) ~ temp + h.rain + w.rain, data=wine)"
   ]
  },
  {
   "cell_type": "code",
   "execution_count": null,
   "metadata": {},
   "outputs": [],
   "source": []
  },
  {
   "cell_type": "code",
   "execution_count": 35,
   "metadata": {},
   "outputs": [
    {
     "data": {
      "text/plain": [
       "\n",
       "Call:\n",
       "lm(formula = log(price) ~ temp + h.rain + w.rain, data = wine)\n",
       "\n",
       "Residuals:\n",
       "     Min       1Q   Median       3Q      Max \n",
       "-0.62013 -0.19020  0.01845  0.22507  0.60538 \n",
       "\n",
       "Coefficients:\n",
       "              Estimate Std. Error t value Pr(>|t|)    \n",
       "(Intercept) -8.9127465  1.9898110  -4.479  0.00017 ***\n",
       "temp         0.7150884  0.1098217   6.511 1.21e-06 ***\n",
       "h.rain      -0.0035035  0.0009602  -3.649  0.00134 ** \n",
       "w.rain       0.0013157  0.0005758   2.285  0.03186 *  \n",
       "---\n",
       "Signif. codes:  0 ‘***’ 0.001 ‘**’ 0.01 ‘*’ 0.05 ‘.’ 0.1 ‘ ’ 1\n",
       "\n",
       "Residual standard error: 0.3416 on 23 degrees of freedom\n",
       "Multiple R-squared:  0.7376,\tAdjusted R-squared:  0.7034 \n",
       "F-statistic: 21.55 on 3 and 23 DF,  p-value: 7.15e-07\n"
      ]
     },
     "metadata": {},
     "output_type": "display_data"
    }
   ],
   "source": [
    "summary(wine.log.noyear.model)"
   ]
  },
  {
   "cell_type": "code",
   "execution_count": 24,
   "metadata": {},
   "outputs": [
    {
     "data": {
      "text/html": [
       "<table>\n",
       "<thead><tr><th scope=col>Res.Df</th><th scope=col>RSS</th><th scope=col>Df</th><th scope=col>Sum of Sq</th><th scope=col>F</th><th scope=col>Pr(&gt;F)</th></tr></thead>\n",
       "<tbody>\n",
       "\t<tr><td>22         </td><td>1.730779   </td><td>NA         </td><td>        NA </td><td>      NA   </td><td>         NA</td></tr>\n",
       "\t<tr><td>23         </td><td>2.684339   </td><td>-1         </td><td>-0.9535598 </td><td>12.12073   </td><td>0.002115994</td></tr>\n",
       "</tbody>\n",
       "</table>\n"
      ],
      "text/latex": [
       "\\begin{tabular}{r|llllll}\n",
       " Res.Df & RSS & Df & Sum of Sq & F & Pr(>F)\\\\\n",
       "\\hline\n",
       "\t 22          & 1.730779    & NA          &         NA  &       NA    &          NA\\\\\n",
       "\t 23          & 2.684339    & -1          & -0.9535598  & 12.12073    & 0.002115994\\\\\n",
       "\\end{tabular}\n"
      ],
      "text/markdown": [
       "\n",
       "Res.Df | RSS | Df | Sum of Sq | F | Pr(>F) | \n",
       "|---|---|\n",
       "| 22          | 1.730779    | NA          |         NA  |       NA    |          NA | \n",
       "| 23          | 2.684339    | -1          | -0.9535598  | 12.12073    | 0.002115994 | \n",
       "\n",
       "\n"
      ],
      "text/plain": [
       "  Res.Df RSS      Df Sum of Sq  F        Pr(>F)     \n",
       "1 22     1.730779 NA         NA       NA          NA\n",
       "2 23     2.684339 -1 -0.9535598 12.12073 0.002115994"
      ]
     },
     "metadata": {},
     "output_type": "display_data"
    },
    {
     "data": {
      "text/html": [
       "<table>\n",
       "<thead><tr><th scope=col>Res.Df</th><th scope=col>RSS</th><th scope=col>Df</th><th scope=col>Sum of Sq</th><th scope=col>F</th><th scope=col>Pr(&gt;F)</th></tr></thead>\n",
       "<tbody>\n",
       "\t<tr><td>22        </td><td>3003.994  </td><td>NA        </td><td>       NA </td><td>      NA  </td><td>        NA</td></tr>\n",
       "\t<tr><td>23        </td><td>4086.655  </td><td>-1        </td><td>-1082.661 </td><td>7.928959  </td><td>0.01006655</td></tr>\n",
       "</tbody>\n",
       "</table>\n"
      ],
      "text/latex": [
       "\\begin{tabular}{r|llllll}\n",
       " Res.Df & RSS & Df & Sum of Sq & F & Pr(>F)\\\\\n",
       "\\hline\n",
       "\t 22         & 3003.994   & NA         &        NA  &       NA   &         NA\\\\\n",
       "\t 23         & 4086.655   & -1         & -1082.661  & 7.928959   & 0.01006655\\\\\n",
       "\\end{tabular}\n"
      ],
      "text/markdown": [
       "\n",
       "Res.Df | RSS | Df | Sum of Sq | F | Pr(>F) | \n",
       "|---|---|\n",
       "| 22         | 3003.994   | NA         |        NA  |       NA   |         NA | \n",
       "| 23         | 4086.655   | -1         | -1082.661  | 7.928959   | 0.01006655 | \n",
       "\n",
       "\n"
      ],
      "text/plain": [
       "  Res.Df RSS      Df Sum of Sq F        Pr(>F)    \n",
       "1 22     3003.994 NA        NA       NA         NA\n",
       "2 23     4086.655 -1 -1082.661 7.928959 0.01006655"
      ]
     },
     "metadata": {},
     "output_type": "display_data"
    }
   ],
   "source": [
    "anova(wine.log.model, wine.log.noyear.model)\n",
    "anova(wine.year.model, wine.model)\n",
    "\n",
    "# Hypothese beta_year = 0\n",
    "# Alternative beta_year != 0\n",
    "\n",
    "# Hypothese wird verworfen, da Pr(>F) > F\n",
    "\n",
    "# Erlöärung Tabelle Skript Seite 89"
   ]
  },
  {
   "cell_type": "code",
   "execution_count": null,
   "metadata": {},
   "outputs": [],
   "source": [
    "# Nutze das 3. model (log mit year)"
   ]
  },
  {
   "cell_type": "code",
   "execution_count": 46,
   "metadata": {},
   "outputs": [
    {
     "data": {
      "text/plain": [
       "      year          price             temp           h.rain     \n",
       " Min.   :1952   Min.   : 10.00   Min.   :15.00   Min.   : 38.0  \n",
       " 1st Qu.:1960   1st Qu.: 14.00   1st Qu.:16.15   1st Qu.: 88.0  \n",
       " Median :1967   Median : 22.00   Median :16.40   Median :123.0  \n",
       " Mean   :1967   Mean   : 28.81   Mean   :16.47   Mean   :144.8  \n",
       " 3rd Qu.:1974   3rd Qu.: 35.00   3rd Qu.:17.00   3rd Qu.:185.5  \n",
       " Max.   :1980   Max.   :100.00   Max.   :17.60   Max.   :292.0  \n",
       "     w.rain     \n",
       " Min.   :376.0  \n",
       " 1st Qu.:543.5  \n",
       " Median :600.0  \n",
       " Mean   :608.4  \n",
       " 3rd Qu.:705.5  \n",
       " Max.   :830.0  "
      ]
     },
     "metadata": {},
     "output_type": "display_data"
    }
   ],
   "source": [
    "summary(wine)\n"
   ]
  },
  {
   "cell_type": "code",
   "execution_count": 54,
   "metadata": {},
   "outputs": [
    {
     "data": {
      "text/html": [
       "<table>\n",
       "<thead><tr><th></th><th scope=col>fit</th><th scope=col>lwr</th><th scope=col>upr</th></tr></thead>\n",
       "<tbody>\n",
       "\t<tr><th scope=row>1</th><td>15.10656</td><td>6.257552</td><td>36.46922</td></tr>\n",
       "</tbody>\n",
       "</table>\n"
      ],
      "text/latex": [
       "\\begin{tabular}{r|lll}\n",
       "  & fit & lwr & upr\\\\\n",
       "\\hline\n",
       "\t1 & 15.10656 & 6.257552 & 36.46922\\\\\n",
       "\\end{tabular}\n"
      ],
      "text/markdown": [
       "\n",
       "| <!--/--> | fit | lwr | upr | \n",
       "|---|\n",
       "| 1 | 15.10656 | 6.257552 | 36.46922 | \n",
       "\n",
       "\n"
      ],
      "text/plain": [
       "  fit      lwr      upr     \n",
       "1 15.10656 6.257552 36.46922"
      ]
     },
     "metadata": {},
     "output_type": "display_data"
    }
   ],
   "source": [
    "exp(predict(wine.log.model, data.frame(year=1985, temp=16.47, h.rain=144.8, w.rain=608.4), interval=\"prediction\", level=0.99))"
   ]
  },
  {
   "cell_type": "code",
   "execution_count": null,
   "metadata": {},
   "outputs": [],
   "source": []
  }
 ],
 "metadata": {
  "kernelspec": {
   "display_name": "R",
   "language": "R",
   "name": "ir"
  },
  "language_info": {
   "codemirror_mode": "r",
   "file_extension": ".r",
   "mimetype": "text/x-r-source",
   "name": "R",
   "pygments_lexer": "r",
   "version": "3.4.2"
  }
 },
 "nbformat": 4,
 "nbformat_minor": 2
}
