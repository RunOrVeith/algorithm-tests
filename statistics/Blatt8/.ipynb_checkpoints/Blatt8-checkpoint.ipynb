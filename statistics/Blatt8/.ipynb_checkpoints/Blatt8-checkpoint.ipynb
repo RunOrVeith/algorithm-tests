{
 "cells": [
  {
   "cell_type": "markdown",
   "metadata": {},
   "source": [
    "## Aufgabe 22"
   ]
  },
  {
   "cell_type": "code",
   "execution_count": 62,
   "metadata": {},
   "outputs": [
    {
     "data": {
      "text/html": [
       "<ol class=list-inline>\n",
       "\t<li>1</li>\n",
       "\t<li>2</li>\n",
       "\t<li>3</li>\n",
       "\t<li>4</li>\n",
       "</ol>\n"
      ],
      "text/latex": [
       "\\begin{enumerate*}\n",
       "\\item 1\n",
       "\\item 2\n",
       "\\item 3\n",
       "\\item 4\n",
       "\\end{enumerate*}\n"
      ],
      "text/markdown": [
       "1. 1\n",
       "2. 2\n",
       "3. 3\n",
       "4. 4\n",
       "\n",
       "\n"
      ],
      "text/plain": [
       "[1] 1 2 3 4"
      ]
     },
     "metadata": {},
     "output_type": "display_data"
    },
    {
     "data": {
      "text/html": [
       "<ol class=list-inline>\n",
       "\t<li>1.2</li>\n",
       "\t<li>1.3</li>\n",
       "\t<li>3.5</li>\n",
       "\t<li>3</li>\n",
       "</ol>\n"
      ],
      "text/latex": [
       "\\begin{enumerate*}\n",
       "\\item 1.2\n",
       "\\item 1.3\n",
       "\\item 3.5\n",
       "\\item 3\n",
       "\\end{enumerate*}\n"
      ],
      "text/markdown": [
       "1. 1.2\n",
       "2. 1.3\n",
       "3. 3.5\n",
       "4. 3\n",
       "\n",
       "\n"
      ],
      "text/plain": [
       "[1] 1.2 1.3 3.5 3.0"
      ]
     },
     "metadata": {},
     "output_type": "display_data"
    }
   ],
   "source": [
    "x = c(1,2,3,4)\n",
    "y = c(1.2, 1.3, 3.5, 3)\n",
    "x\n",
    "y"
   ]
  },
  {
   "cell_type": "code",
   "execution_count": 63,
   "metadata": {},
   "outputs": [],
   "source": [
    "model = lm(y ~ x)"
   ]
  },
  {
   "cell_type": "code",
   "execution_count": 67,
   "metadata": {},
   "outputs": [
    {
     "data": {
      "text/plain": [
       "\n",
       "Call:\n",
       "lm(formula = y ~ x)\n",
       "\n",
       "Coefficients:\n",
       "(Intercept)            x  \n",
       "       0.35         0.76  \n"
      ]
     },
     "metadata": {},
     "output_type": "display_data"
    },
    {
     "name": "stdout",
     "output_type": "stream",
     "text": [
      "[1] \"results:\"\n",
      "[1] \"Beta:\"\n",
      "(Intercept)           x \n",
      "       0.35        0.76 \n",
      "[1] \"epsilon\"\n",
      "[1]  0.85 -0.22  2.45 -0.04\n",
      "[1] \"y\"\n",
      "[1] 1.2 1.3 3.5 3.0\n"
     ]
    },
    {
     "data": {
      "text/html": [
       "TRUE"
      ],
      "text/latex": [
       "TRUE"
      ],
      "text/markdown": [
       "TRUE"
      ],
      "text/plain": [
       "[1] TRUE"
      ]
     },
     "metadata": {},
     "output_type": "display_data"
    }
   ],
   "source": [
    "model\n",
    "x.beta = x*coef(model)\n",
    "epsilon = y - x.beta\n",
    "print(\"results:\")\n",
    "print(\"Beta:\")\n",
    "print(coef(model))\n",
    "print(\"epsilon\")\n",
    "print(epsilon)\n",
    "print(\"y\") \n",
    "print(x.beta + epsilon)\n",
    "all(x.beta + epsilon == y)\n"
   ]
  },
  {
   "cell_type": "code",
   "execution_count": 69,
   "metadata": {},
   "outputs": [
    {
     "name": "stdout",
     "output_type": "stream",
     "text": [
      "[1] \"results:\"\n",
      "[1] \"Beta:\"\n",
      "(Intercept)           y \n",
      "  0.4297821   0.9200969 \n",
      "[1] \"epsilon\"\n",
      "[1]  0.7702179 -0.5401937  2.2106538 -0.6803874\n",
      "[1] \"y\"\n",
      "[1] 1.2 1.3 3.5 3.0\n"
     ]
    },
    {
     "data": {
      "text/html": [
       "TRUE"
      ],
      "text/latex": [
       "TRUE"
      ],
      "text/markdown": [
       "TRUE"
      ],
      "text/plain": [
       "[1] TRUE"
      ]
     },
     "metadata": {},
     "output_type": "display_data"
    }
   ],
   "source": [
    "model.b = lm(x ~ y)\n",
    "x.beta = x*coef(model.b)\n",
    "epsilon = y - x.beta\n",
    "\n",
    "print(\"results:\")\n",
    "print(\"Beta:\")\n",
    "print(coef(model.b))\n",
    "print(\"epsilon\")\n",
    "print(epsilon)\n",
    "print(\"y\") \n",
    "print(x.beta + epsilon)\n",
    "all(x.beta + epsilon == y)\n"
   ]
  },
  {
   "cell_type": "code",
   "execution_count": 90,
   "metadata": {},
   "outputs": [
    {
     "data": {
      "image/png": "[encoded data removed]",
      "text/plain": [
       "plot without title"
      ]
     },
     "metadata": {},
     "output_type": "display_data"
    }
   ],
   "source": [
    "plot(y~x)\n",
    "abline(model, col=\"red\")\n",
    "abline(rev(coef(model.b)), col=\"blue\")"
   ]
  },
  {
   "cell_type": "code",
   "execution_count": 100,
   "metadata": {},
   "outputs": [
    {
     "name": "stderr",
     "output_type": "stream",
     "text": [
      "Installing package into ‘/home/veith/R/x86_64-pc-linux-gnu-library/3.4’\n",
      "(as ‘lib’ is unspecified)\n"
     ]
    }
   ],
   "source": [
    "install.packages(\"gamair\")\n",
    "library(gamair)"
   ]
  },
  {
   "cell_type": "code",
   "execution_count": 104,
   "metadata": {},
   "outputs": [
    {
     "data": {
      "text/html": [
       "<table>\n",
       "<thead><tr><th scope=col>Galaxy</th><th scope=col>y</th><th scope=col>x</th></tr></thead>\n",
       "<tbody>\n",
       "\t<tr><td>NGC0300 </td><td> 133    </td><td> 2.00   </td></tr>\n",
       "\t<tr><td>NGC0925 </td><td> 664    </td><td> 9.16   </td></tr>\n",
       "\t<tr><td>NGC1326A</td><td>1794    </td><td>16.14   </td></tr>\n",
       "\t<tr><td>NGC1365 </td><td>1594    </td><td>17.95   </td></tr>\n",
       "\t<tr><td>NGC1425 </td><td>1473    </td><td>21.88   </td></tr>\n",
       "\t<tr><td>NGC2403 </td><td> 278    </td><td> 3.22   </td></tr>\n",
       "\t<tr><td>NGC2541 </td><td> 714    </td><td>11.22   </td></tr>\n",
       "\t<tr><td>NGC2090 </td><td> 882    </td><td>11.75   </td></tr>\n",
       "\t<tr><td>NGC3031 </td><td>  80    </td><td> 3.63   </td></tr>\n",
       "\t<tr><td>NGC3198 </td><td> 772    </td><td>13.80   </td></tr>\n",
       "\t<tr><td>NGC3351 </td><td> 642    </td><td>10.00   </td></tr>\n",
       "\t<tr><td>NGC3368 </td><td> 768    </td><td>10.52   </td></tr>\n",
       "\t<tr><td>NGC3621 </td><td> 609    </td><td> 6.64   </td></tr>\n",
       "\t<tr><td>NGC4321 </td><td>1433    </td><td>15.21   </td></tr>\n",
       "\t<tr><td>NGC4414 </td><td> 619    </td><td>17.70   </td></tr>\n",
       "\t<tr><td>NGC4496A</td><td>1424    </td><td>14.86   </td></tr>\n",
       "\t<tr><td>NGC4548 </td><td>1384    </td><td>16.22   </td></tr>\n",
       "\t<tr><td>NGC4535 </td><td>1444    </td><td>15.78   </td></tr>\n",
       "\t<tr><td>NGC4536 </td><td>1423    </td><td>14.93   </td></tr>\n",
       "\t<tr><td>NGC4639 </td><td>1403    </td><td>21.98   </td></tr>\n",
       "\t<tr><td>NGC4725 </td><td>1103    </td><td>12.36   </td></tr>\n",
       "\t<tr><td>IC4182  </td><td> 318    </td><td> 4.49   </td></tr>\n",
       "\t<tr><td>NGC5253 </td><td> 232    </td><td> 3.15   </td></tr>\n",
       "\t<tr><td>NGC7331 </td><td> 999    </td><td>14.72   </td></tr>\n",
       "</tbody>\n",
       "</table>\n"
      ],
      "text/latex": [
       "\\begin{tabular}{r|lll}\n",
       " Galaxy & y & x\\\\\n",
       "\\hline\n",
       "\t NGC0300  &  133     &  2.00   \\\\\n",
       "\t NGC0925  &  664     &  9.16   \\\\\n",
       "\t NGC1326A & 1794     & 16.14   \\\\\n",
       "\t NGC1365  & 1594     & 17.95   \\\\\n",
       "\t NGC1425  & 1473     & 21.88   \\\\\n",
       "\t NGC2403  &  278     &  3.22   \\\\\n",
       "\t NGC2541  &  714     & 11.22   \\\\\n",
       "\t NGC2090  &  882     & 11.75   \\\\\n",
       "\t NGC3031  &   80     &  3.63   \\\\\n",
       "\t NGC3198  &  772     & 13.80   \\\\\n",
       "\t NGC3351  &  642     & 10.00   \\\\\n",
       "\t NGC3368  &  768     & 10.52   \\\\\n",
       "\t NGC3621  &  609     &  6.64   \\\\\n",
       "\t NGC4321  & 1433     & 15.21   \\\\\n",
       "\t NGC4414  &  619     & 17.70   \\\\\n",
       "\t NGC4496A & 1424     & 14.86   \\\\\n",
       "\t NGC4548  & 1384     & 16.22   \\\\\n",
       "\t NGC4535  & 1444     & 15.78   \\\\\n",
       "\t NGC4536  & 1423     & 14.93   \\\\\n",
       "\t NGC4639  & 1403     & 21.98   \\\\\n",
       "\t NGC4725  & 1103     & 12.36   \\\\\n",
       "\t IC4182   &  318     &  4.49   \\\\\n",
       "\t NGC5253  &  232     &  3.15   \\\\\n",
       "\t NGC7331  &  999     & 14.72   \\\\\n",
       "\\end{tabular}\n"
      ],
      "text/markdown": [
       "\n",
       "Galaxy | y | x | \n",
       "|---|---|---|---|---|---|---|---|---|---|---|---|---|---|---|---|---|---|---|---|---|---|---|---|\n",
       "| NGC0300  |  133     |  2.00    | \n",
       "| NGC0925  |  664     |  9.16    | \n",
       "| NGC1326A | 1794     | 16.14    | \n",
       "| NGC1365  | 1594     | 17.95    | \n",
       "| NGC1425  | 1473     | 21.88    | \n",
       "| NGC2403  |  278     |  3.22    | \n",
       "| NGC2541  |  714     | 11.22    | \n",
       "| NGC2090  |  882     | 11.75    | \n",
       "| NGC3031  |   80     |  3.63    | \n",
       "| NGC3198  |  772     | 13.80    | \n",
       "| NGC3351  |  642     | 10.00    | \n",
       "| NGC3368  |  768     | 10.52    | \n",
       "| NGC3621  |  609     |  6.64    | \n",
       "| NGC4321  | 1433     | 15.21    | \n",
       "| NGC4414  |  619     | 17.70    | \n",
       "| NGC4496A | 1424     | 14.86    | \n",
       "| NGC4548  | 1384     | 16.22    | \n",
       "| NGC4535  | 1444     | 15.78    | \n",
       "| NGC4536  | 1423     | 14.93    | \n",
       "| NGC4639  | 1403     | 21.98    | \n",
       "| NGC4725  | 1103     | 12.36    | \n",
       "| IC4182   |  318     |  4.49    | \n",
       "| NGC5253  |  232     |  3.15    | \n",
       "| NGC7331  |  999     | 14.72    | \n",
       "\n",
       "\n"
      ],
      "text/plain": [
       "   Galaxy   y    x    \n",
       "1  NGC0300   133  2.00\n",
       "2  NGC0925   664  9.16\n",
       "3  NGC1326A 1794 16.14\n",
       "4  NGC1365  1594 17.95\n",
       "5  NGC1425  1473 21.88\n",
       "6  NGC2403   278  3.22\n",
       "7  NGC2541   714 11.22\n",
       "8  NGC2090   882 11.75\n",
       "9  NGC3031    80  3.63\n",
       "10 NGC3198   772 13.80\n",
       "11 NGC3351   642 10.00\n",
       "12 NGC3368   768 10.52\n",
       "13 NGC3621   609  6.64\n",
       "14 NGC4321  1433 15.21\n",
       "15 NGC4414   619 17.70\n",
       "16 NGC4496A 1424 14.86\n",
       "17 NGC4548  1384 16.22\n",
       "18 NGC4535  1444 15.78\n",
       "19 NGC4536  1423 14.93\n",
       "20 NGC4639  1403 21.98\n",
       "21 NGC4725  1103 12.36\n",
       "22 IC4182    318  4.49\n",
       "23 NGC5253   232  3.15\n",
       "24 NGC7331   999 14.72"
      ]
     },
     "metadata": {},
     "output_type": "display_data"
    }
   ],
   "source": [
    "data(hubble)\n",
    "hubble"
   ]
  },
  {
   "cell_type": "code",
   "execution_count": null,
   "metadata": {},
   "outputs": [],
   "source": []
  },
  {
   "cell_type": "code",
   "execution_count": 131,
   "metadata": {},
   "outputs": [
    {
     "data": {
      "text/html": [
       "<strong>hubble$x:</strong> 12794692825.0865"
      ],
      "text/latex": [
       "\\textbf{hubble\\textbackslash{}\\$x:} 12794692825.0865"
      ],
      "text/markdown": [
       "**hubble$x:** 12794692825.0865"
      ],
      "text/plain": [
       "   hubble$x \n",
       "12794692825 "
      ]
     },
     "metadata": {},
     "output_type": "display_data"
    },
    {
     "data": {
      "text/html": [
       "<strong>hubble$x[-c(3, 15)]:</strong> 12614854756.7506"
      ],
      "text/latex": [
       "\\textbf{hubble\\textbackslash{}\\$x\\{{[}\\}-c(3, 15)\\{{]}\\}:} 12614854756.7506"
      ],
      "text/markdown": [
       "**hubble$x[-c(3, 15)]:** 12614854756.7506"
      ],
      "text/plain": [
       "hubble$x[-c(3, 15)] \n",
       "        12614854757 "
      ]
     },
     "metadata": {},
     "output_type": "display_data"
    },
    {
     "data": {
      "image/png": "[encoded data removed]",
      "text/plain": [
       "plot without title"
      ]
     },
     "metadata": {},
     "output_type": "display_data"
    }
   ],
   "source": [
    "plt = plot(hubble$y ~ hubble$x)\n",
    "lsq = lm(hubble$y~hubble$x+0)\n",
    "# Formula: coef(lsq) x + 0, in Hz\n",
    "abline(lsq)\n",
    "points = identify(x=hubble$x, y=hubble$y)\n",
    "\n",
    "# beta = 1/s\n",
    "lsq.less = lm(hubble$y[-c(3,15)]~hubble$x[-c(3,15)]+0)\n",
    "abline(lsq.less, col=\"red\")\n",
    "\n",
    "age.1 = 1/(coef(lsq)) * 3.09*10^19 / 60 / 60 / 24 / 365\n",
    "age.2 = 1/(coef(lsq.less)) * 3.09*10^19 / 60 / 60 / 24 / 365\n",
    "\n",
    "age.1\n",
    "age.2"
   ]
  },
  {
   "cell_type": "code",
   "execution_count": null,
   "metadata": {},
   "outputs": [],
   "source": []
  }
 ],
 "metadata": {
  "kernelspec": {
   "display_name": "R",
   "language": "R",
   "name": "ir"
  },
  "language_info": {
   "codemirror_mode": "r",
   "file_extension": ".r",
   "mimetype": "text/x-r-source",
   "name": "R",
   "pygments_lexer": "r",
   "version": "3.4.2"
  }
 },
 "nbformat": 4,
 "nbformat_minor": 2
}
