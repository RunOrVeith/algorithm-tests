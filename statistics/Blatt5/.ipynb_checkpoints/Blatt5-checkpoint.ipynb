{
 "cells": [
  {
   "cell_type": "markdown",
   "metadata": {},
   "source": [
    "## Aufgabe 5"
   ]
  },
  {
   "cell_type": "code",
   "execution_count": 7,
   "metadata": {},
   "outputs": [
    {
     "data": {
      "text/plain": [
       "\n",
       "\tExact binomial test\n",
       "\n",
       "data:  c(0, 10)\n",
       "number of successes = 0, number of trials = 10, p-value = 1\n",
       "alternative hypothesis: true probability of success is greater than 0.2\n",
       "99 percent confidence interval:\n",
       " 0 1\n",
       "sample estimates:\n",
       "probability of success \n",
       "                     0 \n"
      ]
     },
     "metadata": {},
     "output_type": "display_data"
    }
   ],
   "source": [
    "\n",
    "# Problem H0: P(complication) < 20%\n",
    "#         H1: P(complication) >= 20%\n",
    "\n",
    "# Assume success means complications\n",
    "binom.test(c(0, 10), p=0.2, alternative=\"greater\", conf.level=0.99)"
   ]
  },
  {
   "cell_type": "markdown",
   "metadata": {},
   "source": [
    "## Aufgabe 16"
   ]
  },
  {
   "cell_type": "code",
   "execution_count": 39,
   "metadata": {},
   "outputs": [
    {
     "name": "stderr",
     "output_type": "stream",
     "text": [
      "Installing package into ‘/home/veith/R/x86_64-pc-linux-gnu-library/3.4’\n",
      "(as ‘lib’ is unspecified)\n"
     ]
    }
   ],
   "source": [
    "install.packages(\"TeachingDemos\")\n",
    "library(\"TeachingDemos\")"
   ]
  },
  {
   "cell_type": "code",
   "execution_count": 62,
   "metadata": {},
   "outputs": [
    {
     "data": {
      "text/html": [
       "0.317310507862914"
      ],
      "text/latex": [
       "0.317310507862914"
      ],
      "text/markdown": [
       "0.317310507862914"
      ],
      "text/plain": [
       "[1] 0.3173105"
      ]
     },
     "metadata": {},
     "output_type": "display_data"
    }
   ],
   "source": [
    "\n",
    "std = sqrt(36)\n",
    "n = 9\n",
    "mu_0 = 40\n",
    "\n",
    "T = function(n, samples, mu_0, std) {\n",
    "    sqrt(n) * (mean(samples) - mu_0) / std\n",
    "}\n",
    "\n",
    "gr.ff = 1 - pnorm(44, mu_0, 36/n) \n",
    "leq.ts = pnorm(36, mu_0, 36/n)\n",
    "T(n, rnorm(n, mu_0, std), mu_0, std)"
   ]
  },
  {
   "cell_type": "code",
   "execution_count": 64,
   "metadata": {},
   "outputs": [
    {
     "data": {
      "text/html": [
       "0.0455002638963584"
      ],
      "text/latex": [
       "0.0455002638963584"
      ],
      "text/markdown": [
       "0.0455002638963584"
      ],
      "text/plain": [
       "[1] 0.04550026"
      ]
     },
     "metadata": {},
     "output_type": "display_data"
    }
   ],
   "source": [
    "std = sqrt(36)\n",
    "n = 36\n",
    "mu_0 = 40\n",
    "\n",
    "\n",
    "1 - pnorm(42, mu_0, 36/n) + pnorm(38, mu_0, 36/n)"
   ]
  },
  {
   "cell_type": "code",
   "execution_count": null,
   "metadata": {},
   "outputs": [],
   "source": [
    "g = function(n) {\n",
    "    \n",
    "}"
   ]
  }
 ],
 "metadata": {
  "kernelspec": {
   "display_name": "R",
   "language": "R",
   "name": "ir"
  },
  "language_info": {
   "codemirror_mode": "r",
   "file_extension": ".r",
   "mimetype": "text/x-r-source",
   "name": "R",
   "pygments_lexer": "r",
   "version": "3.4.2"
  }
 },
 "nbformat": 4,
 "nbformat_minor": 2
}
