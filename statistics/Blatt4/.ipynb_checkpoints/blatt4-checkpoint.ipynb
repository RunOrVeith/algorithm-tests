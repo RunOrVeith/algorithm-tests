{
 "cells": [
  {
   "cell_type": "code",
   "execution_count": 120,
   "metadata": {},
   "outputs": [],
   "source": [
    "samples = replicate(rnorm(100), n=5)"
   ]
  },
  {
   "cell_type": "code",
   "execution_count": 124,
   "metadata": {},
   "outputs": [
    {
     "name": "stdout",
     "output_type": "stream",
     "text": [
      "[1] \"Intervals:\"\n"
     ]
    },
    {
     "data": {
      "text/html": [
       "<table>\n",
       "<tbody>\n",
       "\t<tr><th scope=row>lower</th><td>-2.3387362</td><td>-1.154966 </td><td>0.6414915 </td><td>-1.4985689</td><td>-1.1374287</td><td>-1.012491 </td><td>-1.983277 </td><td>-1.5219185</td><td>-1.835055 </td><td>-1.043349 </td><td>⋯         </td><td>-1.633779 </td><td>-0.7350683</td><td>-2.289301 </td><td>-1.495890 </td><td>-0.9992331</td><td>-0.3835530</td><td>-1.4132768</td><td>-1.301529 </td><td>-0.7484597</td><td>-1.066974 </td></tr>\n",
       "\t<tr><th scope=row>upper</th><td> 0.8579028</td><td> 1.094513 </td><td>1.7664468 </td><td> 0.4645142</td><td> 0.8383988</td><td> 1.345626 </td><td> 2.117113 </td><td> 0.1813404</td><td> 1.225670 </td><td> 1.353329 </td><td>⋯         </td><td> 1.974872 </td><td> 0.8602421</td><td> 1.089987 </td><td> 1.560084 </td><td> 1.0803568</td><td> 0.9642565</td><td> 0.2037518</td><td> 1.505739 </td><td> 1.0992311</td><td> 1.297403 </td></tr>\n",
       "</tbody>\n",
       "</table>\n"
      ],
      "text/latex": [
       "\\begin{tabular}{r|llllllllllllllllllllllllllllllllllllllllllllllllllllllllllllllllllllllllllllllllllllllllllllllllllll}\n",
       "\tlower & -2.3387362 & -1.154966  & 0.6414915  & -1.4985689 & -1.1374287 & -1.012491  & -1.983277  & -1.5219185 & -1.835055  & -1.043349  & ⋯          & -1.633779  & -0.7350683 & -2.289301  & -1.495890  & -0.9992331 & -0.3835530 & -1.4132768 & -1.301529  & -0.7484597 & -1.066974 \\\\\n",
       "\tupper &  0.8579028 &  1.094513  & 1.7664468  &  0.4645142 &  0.8383988 &  1.345626  &  2.117113  &  0.1813404 &  1.225670  &  1.353329  & ⋯          &  1.974872  &  0.8602421 &  1.089987  &  1.560084  &  1.0803568 &  0.9642565 &  0.2037518 &  1.505739  &  1.0992311 &  1.297403 \\\\\n",
       "\\end{tabular}\n"
      ],
      "text/markdown": [
       "\n",
       "| lower | -2.3387362 | -1.154966  | 0.6414915  | -1.4985689 | -1.1374287 | -1.012491  | -1.983277  | -1.5219185 | -1.835055  | -1.043349  | ⋯          | -1.633779  | -0.7350683 | -2.289301  | -1.495890  | -0.9992331 | -0.3835530 | -1.4132768 | -1.301529  | -0.7484597 | -1.066974  | \n",
       "| upper |  0.8579028 |  1.094513  | 1.7664468  |  0.4645142 |  0.8383988 |  1.345626  |  2.117113  |  0.1813404 |  1.225670  |  1.353329  | ⋯          |  1.974872  |  0.8602421 |  1.089987  |  1.560084  |  1.0803568 |  0.9642565 |  0.2037518 |  1.505739  |  1.0992311 |  1.297403  | \n",
       "\n",
       "\n"
      ],
      "text/plain": [
       "      [,1]       [,2]      [,3]      [,4]       [,5]       [,6]      [,7]     \n",
       "lower -2.3387362 -1.154966 0.6414915 -1.4985689 -1.1374287 -1.012491 -1.983277\n",
       "upper  0.8579028  1.094513 1.7664468  0.4645142  0.8383988  1.345626  2.117113\n",
       "      [,8]       [,9]      [,10]     [,11] [,12]     [,13]      [,14]    \n",
       "lower -1.5219185 -1.835055 -1.043349 ⋯     -1.633779 -0.7350683 -2.289301\n",
       "upper  0.1813404  1.225670  1.353329 ⋯      1.974872  0.8602421  1.089987\n",
       "      [,15]     [,16]      [,17]      [,18]      [,19]     [,20]      [,21]    \n",
       "lower -1.495890 -0.9992331 -0.3835530 -1.4132768 -1.301529 -0.7484597 -1.066974\n",
       "upper  1.560084  1.0803568  0.9642565  0.2037518  1.505739  1.0992311  1.297403"
      ]
     },
     "metadata": {},
     "output_type": "display_data"
    },
    {
     "name": "stdout",
     "output_type": "stream",
     "text": [
      "[1] \"Fraction mu=0 in interval:\"\n"
     ]
    },
    {
     "data": {
      "text/html": [
       "0.96"
      ],
      "text/latex": [
       "0.96"
      ],
      "text/markdown": [
       "0.96"
      ],
      "text/plain": [
       "[1] 0.96"
      ]
     },
     "metadata": {},
     "output_type": "display_data"
    },
    {
     "data": {
      "image/png": "[encoded data removed]",
      "text/plain": [
       "plot without title"
      ]
     },
     "metadata": {},
     "output_type": "display_data"
    }
   ],
   "source": [
    "output <- matrix(unlist(samples), ncol = 5, byrow = TRUE)\n",
    "# Assume sample distributed ~ t(n-1)\n",
    "\n",
    "one_row <- function(row) {\n",
    "    mu = mean(row)\n",
    "    summed = sum((row-mu)^2)\n",
    "    s = sqrt(1 / (length(row) - 1) * summed)\n",
    "    t_quant = qt(0.975, length(row) - 1)\n",
    "    c(lower=mu - t_quant * s / sqrt(length(row)), upper=mu + t_quant * s / sqrt(length(row)))\n",
    "}\n",
    "\n",
    "intervals = apply(output, 1, one_row)\n",
    "\n",
    "count <- function(interval) {\n",
    "    low = interval[\"lower\"]\n",
    "    hi = interval[\"upper\"]\n",
    "    low <= 0 && hi >= 0\n",
    "}\n",
    "\n",
    "print(\"Intervals:\")\n",
    "intervals\n",
    "print(\"Fraction mu=0 in interval:\")\n",
    "\n",
    "interval.plt <- function(intrvls) {\n",
    "    zero_included <- apply(t(intrvls), 1, count)\n",
    "    plot(1, type=\"n\", xlab=\"Interval ID\", ylab=\"Interval\", xlim=c(0, length(intrvls[1,])), ylim=c(min(intrvls) - 1, max(intrvls) + 1))\n",
    "    apply(t(intrvls), 1, \n",
    "          function(intrvl) {\n",
    "              idx = which(intrvls == intrvl)\n",
    "              if (count(intrvl)) {\n",
    "                  col = \"green\"\n",
    "              } else {\n",
    "                  col = \"red\"\n",
    "              }\n",
    "              segments(x0=idx, y0=intrvl[\"lower\"], y1=intrvl[\"upper\"], col=col)\n",
    "          })\n",
    "    sum(zero_included) / length(zero_included)\n",
    "}\n",
    "\n",
    "interval.plt(intervals)"
   ]
  },
  {
   "cell_type": "code",
   "execution_count": null,
   "metadata": {},
   "outputs": [],
   "source": []
  }
 ],
 "metadata": {
  "kernelspec": {
   "display_name": "R",
   "language": "R",
   "name": "ir"
  },
  "language_info": {
   "codemirror_mode": "r",
   "file_extension": ".r",
   "mimetype": "text/x-r-source",
   "name": "R",
   "pygments_lexer": "r",
   "version": "3.4.2"
  }
 },
 "nbformat": 4,
 "nbformat_minor": 2
}
