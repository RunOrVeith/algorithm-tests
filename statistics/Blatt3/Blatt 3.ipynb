{
 "cells": [
  {
   "cell_type": "markdown",
   "metadata": {},
   "source": [
    "## Aufgabe 9"
   ]
  },
  {
   "cell_type": "code",
   "execution_count": 1,
   "metadata": {},
   "outputs": [
    {
     "name": "stdout",
     "output_type": "stream",
     "text": [
      "[1] \"Normal distribution\"\n",
      "                  [,1]        [,2]        [,3]        [,4]\n",
      "num_samples 20.0000000 40.00000000 80.00000000 160.0000000\n",
      "mean        -0.2685494 -0.01569288 -0.04939090  -0.1537488\n",
      "median      -0.1586337 -0.05276703 -0.03025642  -0.1789848\n",
      "[1] \"Normalized Student t5 distribution\"\n",
      "                   [,1]        [,2]        [,3]         [,4]\n",
      "num_samples 20.00000000 40.00000000 80.00000000 160.00000000\n",
      "mean        -0.08858792 -0.03437792 -0.01324570  -0.01876639\n",
      "median      -0.14793654 -0.11015700 -0.02082898  -0.03529512\n",
      "[1] \"Normalized Student t3 distribution\"\n",
      "                    [,1]         [,2]        [,3]          [,4]\n",
      "num_samples 20.000000000 40.000000000 80.00000000 160.000000000\n",
      "mean         0.405470642 -0.007724744  0.08649164  -0.001941723\n",
      "median       0.008685957  0.026668436  0.12413018   0.023141840\n"
     ]
    }
   ],
   "source": [
    "a <- function(n, f) {\n",
    "  \n",
    "    samples = f(n)\n",
    "    arithmetic_mean = mean(samples)\n",
    "    empiric_median = median(samples)\n",
    "    return(c(num_samples=n, mean=arithmetic_mean, median=empiric_median))\n",
    "}\n",
    "\n",
    "normal_stud_t5 = function(n) {\n",
    "    sqrt(3/5) * rt(n, df=5)\n",
    "}\n",
    "\n",
    "normal_stud_t3 = function(n) {\n",
    "    sqrt(1/3) * rt(n, df=3)\n",
    "}\n",
    "\n",
    "print(\"Normal distribution\")\n",
    "print(sapply(c(20, 40, 80, 160), a, f=rnorm))\n",
    "print(\"Normalized Student t5 distribution\")\n",
    "print(sapply(c(20, 40, 80, 160), a, f=normal_stud_t5))\n",
    "print(\"Normalized Student t3 distribution\")\n",
    "print(sapply(c(20, 40, 80, 160), a, f=normal_stud_t3))"
   ]
  },
  {
   "cell_type": "code",
   "execution_count": 5,
   "metadata": {},
   "outputs": [],
   "source": [
    "multiple_times <- function(num_repeats, reps, f) {\n",
    "    exps = replicate(num_repeats, sapply(reps, a, f=f), simplify=T)\n",
    "    as_mat = matrix(exps, ncol=num_repeats)\n",
    "    variances <- matrix(apply(X=as_mat, MARGIN=1, var), nrow=3)[c(2,3),]\n",
    "}\n",
    "\n",
    "num_repeats = 2000\n",
    "var_rnorm = multiple_times(num_repeats, c(20, 40, 80, 160), rnorm)\n",
    "var_t5 = multiple_times(num_repeats, c(20, 40, 80, 160), normal_stud_t5)\n",
    "var_t3 = multiple_times(num_repeats, c(20, 40, 80, 160), normal_stud_t3)\n"
   ]
  },
  {
   "cell_type": "code",
   "execution_count": 6,
   "metadata": {},
   "outputs": [
    {
     "name": "stdout",
     "output_type": "stream",
     "text": [
      "[1] \"Matrix of variance of mean, median per sample count\"\n"
     ]
    },
    {
     "data": {
      "text/html": [
       "<table>\n",
       "<tbody>\n",
       "\t<tr><td>0.05260534 </td><td>0.02532157 </td><td>0.01287094 </td><td>0.005895613</td></tr>\n",
       "\t<tr><td>0.07621171 </td><td>0.03814913 </td><td>0.01942235 </td><td>0.009588263</td></tr>\n",
       "</tbody>\n",
       "</table>\n"
      ],
      "text/latex": [
       "\\begin{tabular}{llll}\n",
       "\t 0.05260534  & 0.02532157  & 0.01287094  & 0.005895613\\\\\n",
       "\t 0.07621171  & 0.03814913  & 0.01942235  & 0.009588263\\\\\n",
       "\\end{tabular}\n"
      ],
      "text/markdown": [
       "\n",
       "| 0.05260534  | 0.02532157  | 0.01287094  | 0.005895613 | \n",
       "| 0.07621171  | 0.03814913  | 0.01942235  | 0.009588263 | \n",
       "\n",
       "\n"
      ],
      "text/plain": [
       "     [,1]       [,2]       [,3]       [,4]       \n",
       "[1,] 0.05260534 0.02532157 0.01287094 0.005895613\n",
       "[2,] 0.07621171 0.03814913 0.01942235 0.009588263"
      ]
     },
     "metadata": {},
     "output_type": "display_data"
    },
    {
     "data": {
      "text/html": [
       "<table>\n",
       "<tbody>\n",
       "\t<tr><td>0.04960658 </td><td>0.02443244 </td><td>0.01245273 </td><td>0.006561097</td></tr>\n",
       "\t<tr><td>0.04990550 </td><td>0.02535232 </td><td>0.01314550 </td><td>0.006655180</td></tr>\n",
       "</tbody>\n",
       "</table>\n"
      ],
      "text/latex": [
       "\\begin{tabular}{llll}\n",
       "\t 0.04960658  & 0.02443244  & 0.01245273  & 0.006561097\\\\\n",
       "\t 0.04990550  & 0.02535232  & 0.01314550  & 0.006655180\\\\\n",
       "\\end{tabular}\n"
      ],
      "text/markdown": [
       "\n",
       "| 0.04960658  | 0.02443244  | 0.01245273  | 0.006561097 | \n",
       "| 0.04990550  | 0.02535232  | 0.01314550  | 0.006655180 | \n",
       "\n",
       "\n"
      ],
      "text/plain": [
       "     [,1]       [,2]       [,3]       [,4]       \n",
       "[1,] 0.04960658 0.02443244 0.01245273 0.006561097\n",
       "[2,] 0.04990550 0.02535232 0.01314550 0.006655180"
      ]
     },
     "metadata": {},
     "output_type": "display_data"
    },
    {
     "data": {
      "text/html": [
       "<table>\n",
       "<tbody>\n",
       "\t<tr><td>0.05358718 </td><td>0.02653012 </td><td>0.012549946</td><td>0.006192022</td></tr>\n",
       "\t<tr><td>0.03165685 </td><td>0.01516869 </td><td>0.007836733</td><td>0.003790180</td></tr>\n",
       "</tbody>\n",
       "</table>\n"
      ],
      "text/latex": [
       "\\begin{tabular}{llll}\n",
       "\t 0.05358718  & 0.02653012  & 0.012549946 & 0.006192022\\\\\n",
       "\t 0.03165685  & 0.01516869  & 0.007836733 & 0.003790180\\\\\n",
       "\\end{tabular}\n"
      ],
      "text/markdown": [
       "\n",
       "| 0.05358718  | 0.02653012  | 0.012549946 | 0.006192022 | \n",
       "| 0.03165685  | 0.01516869  | 0.007836733 | 0.003790180 | \n",
       "\n",
       "\n"
      ],
      "text/plain": [
       "     [,1]       [,2]       [,3]        [,4]       \n",
       "[1,] 0.05358718 0.02653012 0.012549946 0.006192022\n",
       "[2,] 0.03165685 0.01516869 0.007836733 0.003790180"
      ]
     },
     "metadata": {},
     "output_type": "display_data"
    },
    {
     "name": "stdout",
     "output_type": "stream",
     "text": [
      "[1] \"Quotients\"\n"
     ]
    },
    {
     "data": {
      "text/html": [
       "<dl class=dl-horizontal>\n",
       "\t<dt>normal_1</dt>\n",
       "\t\t<dd>0.690252749580603</dd>\n",
       "\t<dt>normal_2</dt>\n",
       "\t\t<dd>0.663752235596104</dd>\n",
       "\t<dt>normal_3</dt>\n",
       "\t\t<dd>0.662686768256823</dd>\n",
       "\t<dt>normal_4</dt>\n",
       "\t\t<dd>0.61487806977968</dd>\n",
       "\t<dt>t5_1</dt>\n",
       "\t\t<dd>0.994010271308114</dd>\n",
       "\t<dt>t5_2</dt>\n",
       "\t\t<dd>0.963716188969393</dd>\n",
       "\t<dt>t5_3</dt>\n",
       "\t\t<dd>0.947300151235186</dd>\n",
       "\t<dt>t5_4</dt>\n",
       "\t\t<dd>0.985863198106666</dd>\n",
       "\t<dt>t3_1</dt>\n",
       "\t\t<dd>1.6927513796518</dd>\n",
       "\t<dt>t3_2</dt>\n",
       "\t\t<dd>1.7490054441878</dd>\n",
       "\t<dt>t3_3</dt>\n",
       "\t\t<dd>1.60142578787118</dd>\n",
       "\t<dt>t3_4</dt>\n",
       "\t\t<dd>1.63370127211533</dd>\n",
       "</dl>\n"
      ],
      "text/latex": [
       "\\begin{description*}\n",
       "\\item[normal\\textbackslash{}\\_1] 0.690252749580603\n",
       "\\item[normal\\textbackslash{}\\_2] 0.663752235596104\n",
       "\\item[normal\\textbackslash{}\\_3] 0.662686768256823\n",
       "\\item[normal\\textbackslash{}\\_4] 0.61487806977968\n",
       "\\item[t5\\textbackslash{}\\_1] 0.994010271308114\n",
       "\\item[t5\\textbackslash{}\\_2] 0.963716188969393\n",
       "\\item[t5\\textbackslash{}\\_3] 0.947300151235186\n",
       "\\item[t5\\textbackslash{}\\_4] 0.985863198106666\n",
       "\\item[t3\\textbackslash{}\\_1] 1.6927513796518\n",
       "\\item[t3\\textbackslash{}\\_2] 1.7490054441878\n",
       "\\item[t3\\textbackslash{}\\_3] 1.60142578787118\n",
       "\\item[t3\\textbackslash{}\\_4] 1.63370127211533\n",
       "\\end{description*}\n"
      ],
      "text/markdown": [
       "normal_1\n",
       ":   0.690252749580603normal_2\n",
       ":   0.663752235596104normal_3\n",
       ":   0.662686768256823normal_4\n",
       ":   0.61487806977968t5_1\n",
       ":   0.994010271308114t5_2\n",
       ":   0.963716188969393t5_3\n",
       ":   0.947300151235186t5_4\n",
       ":   0.985863198106666t3_1\n",
       ":   1.6927513796518t3_2\n",
       ":   1.7490054441878t3_3\n",
       ":   1.60142578787118t3_4\n",
       ":   1.63370127211533\n",
       "\n"
      ],
      "text/plain": [
       " normal_1  normal_2  normal_3  normal_4      t5_1      t5_2      t5_3      t5_4 \n",
       "0.6902527 0.6637522 0.6626868 0.6148781 0.9940103 0.9637162 0.9473002 0.9858632 \n",
       "     t3_1      t3_2      t3_3      t3_4 \n",
       "1.6927514 1.7490054 1.6014258 1.6337013 "
      ]
     },
     "metadata": {},
     "output_type": "display_data"
    }
   ],
   "source": [
    "print(\"Matrix of variance of mean, median per sample count\")\n",
    "var_rnorm\n",
    "var_t5\n",
    "var_t3\n",
    "\n",
    "print(\"Quotients\")\n",
    "quotients = c(normal_=var_rnorm[1, ] / var_rnorm[2, ],\n",
    "              t5_=var_t5[1, ] / var_t5[2, ],\n",
    "              t3_=var_t3[1, ] / var_t3[2, ])\n",
    "quotients"
   ]
  },
  {
   "cell_type": "markdown",
   "metadata": {},
   "source": [
    "## Aufgabe 10"
   ]
  },
  {
   "cell_type": "markdown",
   "metadata": {},
   "source": [
    "$L({\\hat{\\theta}}) = \\prod_{i=1}^n\\hat{\\theta} e^{-\\hat{\\theta}} x_i= \\hat{\\theta}^n e^{-\\hat{\\theta}}\\sum^n_{i=1} x_i=\\hat{\\theta}^n e^{-\\hat{\\theta}} n\\bar{x}$\n",
    "\n",
    "Log likelihood:\n",
    "$LL(\\hat{\\theta}) = n*log(\\hat{\\theta})-\\hat{\\theta} n \\bar{x}$\n",
    "\n",
    "Derive:\n",
    "$LL'(\\hat{\\theta}) = -\\frac{n(\\hat{\\theta} \\bar{x} -1)}{\\hat{\\theta}}$\n",
    "\n",
    "$LL'(\\hat{\\theta}) = 0 \\Leftrightarrow \\hat{\\theta} = \\frac{1}{\\bar{x}} $\n",
    "\n",
    "Also stimmt der ML Schätzer."
   ]
  },
  {
   "cell_type": "code",
   "execution_count": 7,
   "metadata": {},
   "outputs": [],
   "source": [
    "samples = rexp(100, rate=0.5)\n",
    "estimate = 1 / mean(samples)"
   ]
  },
  {
   "cell_type": "code",
   "execution_count": 8,
   "metadata": {},
   "outputs": [
    {
     "data": {
      "text/html": [
       "<dl class=dl-horizontal>\n",
       "\t<dt>numeric_estimate</dt>\n",
       "\t\t<dd>0.54989497917147</dd>\n",
       "\t<dt>estimate</dt>\n",
       "\t\t<dd>0.549887488602403</dd>\n",
       "\t<dt>quotient</dt>\n",
       "\t\t<dd>1.00001362200309</dd>\n",
       "</dl>\n"
      ],
      "text/latex": [
       "\\begin{description*}\n",
       "\\item[numeric\\textbackslash{}\\_estimate] 0.54989497917147\n",
       "\\item[estimate] 0.549887488602403\n",
       "\\item[quotient] 1.00001362200309\n",
       "\\end{description*}\n"
      ],
      "text/markdown": [
       "numeric_estimate\n",
       ":   0.54989497917147estimate\n",
       ":   0.549887488602403quotient\n",
       ":   1.00001362200309\n",
       "\n"
      ],
      "text/plain": [
       "numeric_estimate         estimate         quotient \n",
       "       0.5498950        0.5498875        1.0000136 "
      ]
     },
     "metadata": {},
     "output_type": "display_data"
    }
   ],
   "source": [
    "ll <- function(x, theta)\n",
    "{\n",
    "    -sum(dexp(x,rate=theta,log=T))\n",
    "}\n",
    "\n",
    "numeric_estimate = optimize(f=ll,x=samples, interval=c(0, 1))\n",
    "\n",
    "c(numeric_estimate=numeric_estimate$minimum, estimate=estimate, quotient=numeric_estimate$minimum/estimate)"
   ]
  },
  {
   "cell_type": "markdown",
   "metadata": {},
   "source": [
    "## Aufgabe 11"
   ]
  },
  {
   "cell_type": "code",
   "execution_count": 115,
   "metadata": {},
   "outputs": [
    {
     "name": "stderr",
     "output_type": "stream",
     "text": [
      "Installing package into ‘/home/veith/R/x86_64-pc-linux-gnu-library/3.4’\n",
      "(as ‘lib’ is unspecified)\n"
     ]
    }
   ],
   "source": [
    "install.packages(\"PASWR\")"
   ]
  },
  {
   "cell_type": "code",
   "execution_count": 116,
   "metadata": {},
   "outputs": [
    {
     "name": "stderr",
     "output_type": "stream",
     "text": [
      "Loading required package: e1071\n",
      "Loading required package: MASS\n",
      "Loading required package: lattice\n"
     ]
    }
   ],
   "source": [
    "library(\"PASWR\")"
   ]
  },
  {
   "cell_type": "code",
   "execution_count": 117,
   "metadata": {},
   "outputs": [],
   "source": [
    "data(Grocery)"
   ]
  },
  {
   "cell_type": "markdown",
   "metadata": {},
   "source": [
    "I would think the assumption of normal distribution is not correct,\n",
    "since the distribution of money is not normal, but richer people usually have less children."
   ]
  },
  {
   "cell_type": "code",
   "execution_count": 120,
   "metadata": {},
   "outputs": [
    {
     "data": {
      "image/png": "[encoded data removed]",
      "text/plain": [
       "Plot with title “density.default(x = Grocery$groceries)”"
      ]
     },
     "metadata": {},
     "output_type": "display_data"
    },
    {
     "data": {
      "image/png": "[encoded data removed]",
      "text/plain": [
       "Plot with title “Normal Q-Q Plot”"
      ]
     },
     "metadata": {},
     "output_type": "display_data"
    }
   ],
   "source": [
    "plot(density(Grocery$groceries))\n",
    "qqnorm(Grocery$groceries)\n",
    "qqline(Grocery$groceries)"
   ]
  },
  {
   "cell_type": "code",
   "execution_count": 128,
   "metadata": {},
   "outputs": [
    {
     "data": {
      "text/html": [
       "<dl class=dl-horizontal>\n",
       "\t<dt>left</dt>\n",
       "\t\t<dd>110.331802481374</dd>\n",
       "\t<dt>right</dt>\n",
       "\t\t<dd>130.934864185293</dd>\n",
       "</dl>\n"
      ],
      "text/latex": [
       "\\begin{description*}\n",
       "\\item[left] 110.331802481374\n",
       "\\item[right] 130.934864185293\n",
       "\\end{description*}\n"
      ],
      "text/markdown": [
       "left\n",
       ":   110.331802481374right\n",
       ":   130.934864185293\n",
       "\n"
      ],
      "text/plain": [
       "    left    right \n",
       "110.3318 130.9349 "
      ]
     },
     "metadata": {},
     "output_type": "display_data"
    },
    {
     "data": {
      "text/html": [
       "<dl class=dl-horizontal>\n",
       "\t<dt>left</dt>\n",
       "\t\t<dd>107.89140126117</dd>\n",
       "\t<dt>right</dt>\n",
       "\t\t<dd>133.375265405497</dd>\n",
       "</dl>\n"
      ],
      "text/latex": [
       "\\begin{description*}\n",
       "\\item[left] 107.89140126117\n",
       "\\item[right] 133.375265405497\n",
       "\\end{description*}\n"
      ],
      "text/markdown": [
       "left\n",
       ":   107.89140126117right\n",
       ":   133.375265405497\n",
       "\n"
      ],
      "text/plain": [
       "    left    right \n",
       "107.8914 133.3753 "
      ]
     },
     "metadata": {},
     "output_type": "display_data"
    }
   ],
   "source": [
    "conf_interval = function(sure, sample, sd) \n",
    "{\n",
    "    n = length(sample)\n",
    "    sample_mean = mean(sample)\n",
    "    error = qnorm(sure) * sd / sqrt(n)\n",
    "    left = sample_mean - error\n",
    "    right = sample_mean + error\n",
    "    c(left=left, right=right)\n",
    "}\n",
    "\n",
    "conf_interval(0.97, Grocery$groceries, sqrt(900))\n",
    "conf_interval(0.99, Grocery$groceries, sqrt(900))"
   ]
  },
  {
   "cell_type": "code",
   "execution_count": null,
   "metadata": {},
   "outputs": [],
   "source": []
  }
 ],
 "metadata": {
  "kernelspec": {
   "display_name": "R",
   "language": "R",
   "name": "ir"
  },
  "language_info": {
   "codemirror_mode": "r",
   "file_extension": ".r",
   "mimetype": "text/x-r-source",
   "name": "R",
   "pygments_lexer": "r",
   "version": "3.4.2"
  }
 },
 "nbformat": 4,
 "nbformat_minor": 2
}
